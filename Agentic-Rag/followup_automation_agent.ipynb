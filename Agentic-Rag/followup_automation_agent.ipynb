{
  "nbformat": 4,
  "nbformat_minor": 0,
  "metadata": {
    "colab": {
      "provenance": []
    },
    "kernelspec": {
      "name": "python3",
      "display_name": "Python 3"
    },
    "language_info": {
      "name": "python"
    }
  },
  "cells": [
    {
      "cell_type": "markdown",
      "source": [
        "# 🤖 RAG & Agent Cookbook: Automating Sales Follow-ups and Email Tasks\n",
        "\n",
        "\n",
        "\n",
        "This notebook demonstrates an AI-powered assistant that automates **next-step extraction**, **email drafting**, and **email sending** from sales call transcripts using **OpenAI GPT-4o** and function calling.\n",
        "\n",
        "---\n",
        "\n",
        "🔍 **What this notebook does**:\n",
        "\n",
        "- Takes a **sales conversation transcript** as input.\n",
        "- Uses GPT-4o to **extract actionable next steps** (e.g., \"Send proposal\", \"Follow up with finance\").\n",
        "- Automatically **drafts professional emails** for relevant tasks.\n",
        "- Sends those emails via **SMTP** (e.g., Gmail).\n",
        "- Uses modular **function calling tools** and **multi-step agent logic**.\n",
        "\n",
        "---\n",
        "\n",
        "\n",
        "## 🚀 Setup\n",
        "\n",
        "### Install Dependencies\n",
        "First, install the required packages and configure your environment.\n",
        "\n"
      ],
      "metadata": {
        "id": "Qr71dSekJDtU"
      }
    },
    {
      "cell_type": "code",
      "execution_count": null,
      "metadata": {
        "id": "VIgzZhD3ItpE"
      },
      "outputs": [],
      "source": [
        "!pip install openai smtplib"
      ]
    },
    {
      "cell_type": "markdown",
      "source": [
        "## 🛠️ Install Required Libraries"
      ],
      "metadata": {
        "id": "TzDQSmJkMOpz"
      }
    },
    {
      "cell_type": "code",
      "source": [
        "import openai\n",
        "import json\n",
        "import smtplib\n",
        "import os\n",
        "from email.message import EmailMessage\n",
        "import logging\n"
      ],
      "metadata": {
        "id": "ckemLOe5MSeN"
      },
      "execution_count": 4,
      "outputs": []
    },
    {
      "cell_type": "markdown",
      "source": [
        "## 🔐 Set Up Environment Variables\n",
        "\n",
        "Configure your OpenAI API key and email credentials before running the notebook.\n",
        "\n",
        "You can do this by creating a `.env` file or setting them directly in the notebook using `os.environ`.\n",
        "\n",
        "### Required Variables:\n",
        "\n",
        "- `OPENAI_API_KEY`: Your OpenAI API key.\n",
        "- `EMAIL_USER`: Your email address (used to send emails).\n",
        "- `EMAIL_PASS`: App password or SMTP password for your email.\n"
      ],
      "metadata": {
        "id": "ce8hjgAgKf2Y"
      }
    },
    {
      "cell_type": "code",
      "source": [
        "# Set up API Key and Email Credentials\n",
        "os.environ[\"OPENAI_API_KEY\"] = \"Your OpenAI API key.\"\n",
        "os.environ[\"EMAIL_USER\"] = \"Your email address (used to send emails).\"\n",
        "os.environ[\"EMAIL_PASS\"] = \"App password or SMTP password for your email.\"\n",
        "\n",
        "\n",
        "print(\"✅ Environment variables set.\")"
      ],
      "metadata": {
        "colab": {
          "base_uri": "https://localhost:8080/"
        },
        "id": "O9WEpJpBKwEB",
        "outputId": "98761ad3-3c44-42f5-deec-2b9dce0de800"
      },
      "execution_count": 18,
      "outputs": [
        {
          "output_type": "stream",
          "name": "stdout",
          "text": [
            "✅ Environment variables set.\n"
          ]
        }
      ]
    },
    {
      "cell_type": "markdown",
      "source": [
        "## Loading Environment Variables\n"
      ],
      "metadata": {
        "id": "OmHywHL-NPhK"
      }
    },
    {
      "cell_type": "code",
      "source": [
        "openai.api_key = os.getenv(\"OPENAI_API_KEY\")\n",
        "EMAIL_USER = os.getenv(\"EMAIL_USER\")        # your email (e.g., your@email.com)\n",
        "EMAIL_PASS = os.getenv(\"EMAIL_PASS\")"
      ],
      "metadata": {
        "id": "zQa7SerdNRF-"
      },
      "execution_count": 8,
      "outputs": []
    },
    {
      "cell_type": "markdown",
      "source": [
        "# 🔑 Function Definitions\n",
        "1. Extract Next Steps from a Transcript\n",
        "This function uses GPT-4 to extract actionable next steps from a sales transcript."
      ],
      "metadata": {
        "id": "tGpGWsR3K-8Q"
      }
    },
    {
      "cell_type": "code",
      "source": [
        "def extractNextSteps(transcript: str) -> list:\n",
        "    \"\"\"\n",
        "    Extract actionable next steps from a sales transcript.\n",
        "\n",
        "    Args:\n",
        "        transcript (str): The full transcript of the conversation.\n",
        "\n",
        "    Returns:\n",
        "        list: A list of next-step strings.\n",
        "    \"\"\"\n",
        "    prompt = f\"\"\"\n",
        "    You're a helpful sales assistant. Extract the next steps from this transcript as a bullet list.\n",
        "\n",
        "    Transcript:\n",
        "    {transcript}\n",
        "\n",
        "    Only return the steps. No intro, no summary.\n",
        "    \"\"\"\n",
        "    res = openai.chat.completions.create(\n",
        "        model=\"gpt-4o\",\n",
        "        messages=[{\"role\": \"user\", \"content\": prompt}]\n",
        "    )\n",
        "    content = res.choices[0].message.content.strip()\n",
        "    return [step.strip(\"-• \") for step in content.split(\"\\n\") if step.strip()]"
      ],
      "metadata": {
        "id": "sL-8GGjyK-g0"
      },
      "execution_count": 9,
      "outputs": []
    },
    {
      "cell_type": "markdown",
      "source": [
        "2. Draft Email from Task\n",
        "This function converts a task description into a professional email, inferring the recipient’s email if not explicitly mentioned."
      ],
      "metadata": {
        "id": "spKLyBVrL3Lc"
      }
    },
    {
      "cell_type": "code",
      "source": [
        "def draftEmail(step: str) -> dict:\n",
        "    \"\"\"\n",
        "    Draft a professional email based on a task/next step.\n",
        "\n",
        "    Args:\n",
        "        step (str): The next step/task to convert into an email.\n",
        "\n",
        "    Returns:\n",
        "        dict: A dictionary with 'to', 'subject', and 'body' keys.\n",
        "    \"\"\"\n",
        "\n",
        "    prompt = f\"\"\"\n",
        "    Convert this task into a professional email. If the recipient's email is not explicitly provided, infer it from the name or role mentioned. Default to \"Your email\" if uncertain.\n",
        "\n",
        "    Task: {step}\n",
        "\n",
        "    Format:\n",
        "    To: [inferred or default email]\n",
        "    Subject: ...\n",
        "    Body:\n",
        "\n",
        "    Best Regards\n",
        "    Akshat Anand\n",
        "\n",
        "    ...\n",
        "    \"\"\"\n",
        "\n",
        "    res = openai.chat.completions.create(\n",
        "        model=\"gpt-4o\",\n",
        "        messages=[{\"role\": \"user\", \"content\": prompt}]\n",
        "    )\n",
        "\n",
        "    lines = res.choices[0].message.content.splitlines()\n",
        "    email = {\"to\": \"\", \"subject\": \"\", \"body\": \"\"}\n",
        "    capture = None\n",
        "    for line in lines:\n",
        "        if line.lower().startswith(\"to:\"):\n",
        "            email[\"to\"] = line[3:].strip()\n",
        "            if not email[\"to\"] or \"@\" not in email[\"to\"]:\n",
        "                email[\"to\"] = \"ayush@llumo.ai\"\n",
        "        elif line.lower().startswith(\"subject:\"):\n",
        "            email[\"subject\"] = line[8:].strip()\n",
        "            capture = \"body\"\n",
        "        elif capture == \"body\":\n",
        "            email[\"body\"] += line.strip() + \"\\n\"\n",
        "\n",
        "    return email"
      ],
      "metadata": {
        "id": "wjQw8xvbLynm"
      },
      "execution_count": 10,
      "outputs": []
    },
    {
      "cell_type": "markdown",
      "source": [
        "3. Send the Email\n",
        "The sendEmail function sends the email to the intended recipient."
      ],
      "metadata": {
        "id": "4nx3jNM0MeSj"
      }
    },
    {
      "cell_type": "code",
      "source": [
        "def sendEmail(email: dict):\n",
        "    \"\"\"\n",
        "    Send an email using SMTP.\n",
        "\n",
        "    Args:\n",
        "        email (dict): A dictionary with 'to', 'subject', and 'body' keys.\n",
        "\n",
        "    Returns:\n",
        "        dict: A dictionary with 'status' and 'error' keys.\n",
        "    \"\"\"\n",
        "    try:\n",
        "        msg = EmailMessage()\n",
        "        msg[\"From\"] = EMAIL_USER\n",
        "        msg[\"To\"] = email[\"to\"]\n",
        "        msg[\"Subject\"] = email[\"subject\"]\n",
        "        msg.set_content(email[\"body\"])\n",
        "\n",
        "        with smtplib.SMTP_SSL(\"smtp.gmail.com\", 465) as smtp:\n",
        "            smtp.login(EMAIL_USER, EMAIL_PASS)\n",
        "            smtp.send_message(msg)\n",
        "        logging.info(f\"✅ Email sent to {email['to']}\")\n",
        "        return {\"status\": \"sent\", \"to\": email[\"to\"]}\n",
        "    except Exception as e:\n",
        "        logging.error(f\"❌ Failed to send email: {e}\")\n",
        "        return {\"status\": \"failed\", \"error\": str(e)}\n"
      ],
      "metadata": {
        "id": "upT9J7qxMb5V"
      },
      "execution_count": 11,
      "outputs": []
    },
    {
      "cell_type": "markdown",
      "source": [
        "4. Tool Wrappers\n",
        "These functions allow the tools to be executed and interact with the OpenAI API."
      ],
      "metadata": {
        "id": "l5kOfz3xNXnt"
      }
    },
    {
      "cell_type": "code",
      "source": [
        "def tool_generateNextSteps(args):\n",
        "    steps = extractNextSteps(args[\"transcript\"])\n",
        "    return json.dumps({\"nextSteps\": steps})\n",
        "\n",
        "def tool_draftEmail(args):\n",
        "    email = draftEmail(args[\"step\"])\n",
        "    return json.dumps(email)\n",
        "\n",
        "def tool_sendEmail(args):\n",
        "    result = sendEmail(args)\n",
        "    return json.dumps(result)\n"
      ],
      "metadata": {
        "id": "uYjbyR4BNU4s"
      },
      "execution_count": 12,
      "outputs": []
    },
    {
      "cell_type": "markdown",
      "source": [
        "5. Tool Definitions\n",
        "Define the tools that will be used by the agent to carry out its tasks."
      ],
      "metadata": {
        "id": "RlytCbjvNhLU"
      }
    },
    {
      "cell_type": "code",
      "source": [
        "# === TOOL DEFINITIONS ===\n",
        "\n",
        "tools = [\n",
        "    {\n",
        "        \"type\": \"function\",\n",
        "        \"function\": {\n",
        "            \"name\": \"generateNextSteps\",\n",
        "            \"description\": \"Extract next steps from a sales transcript.\",\n",
        "            \"parameters\": {\n",
        "                \"type\": \"object\",\n",
        "                \"properties\": {\n",
        "                    \"transcript\": {\"type\": \"string\"}\n",
        "                },\n",
        "                \"required\": [\"transcript\"]\n",
        "            }\n",
        "        }\n",
        "    },\n",
        "    {\n",
        "        \"type\": \"function\",\n",
        "        \"function\": {\n",
        "            \"name\": \"draftEmail\",\n",
        "            \"description\": \"Turn a task into an email.\",\n",
        "            \"parameters\": {\n",
        "                \"type\": \"object\",\n",
        "                \"properties\": {\n",
        "                    \"step\": {\"type\": \"string\"}\n",
        "                },\n",
        "                \"required\": [\"step\"]\n",
        "            }\n",
        "        }\n",
        "    },\n",
        "    {\n",
        "        \"type\": \"function\",\n",
        "        \"function\": {\n",
        "            \"name\": \"sendEmail\",\n",
        "            \"description\": \"Send an email.\",\n",
        "            \"parameters\": {\n",
        "                \"type\": \"object\",\n",
        "                \"properties\": {\n",
        "                    \"to\": {\"type\": \"string\"},\n",
        "                    \"subject\": {\"type\": \"string\"},\n",
        "                    \"body\": {\"type\": \"string\"}\n",
        "                },\n",
        "                \"required\": [\"to\", \"subject\", \"body\"]\n",
        "            }\n",
        "        }\n",
        "    }\n",
        "]\n"
      ],
      "metadata": {
        "id": "Jrx2yy_tNerS"
      },
      "execution_count": 13,
      "outputs": []
    },
    {
      "cell_type": "markdown",
      "source": [
        "6. Tool Call Executor\n",
        "This part allows the agent to execute the tools by invoking them in the right order."
      ],
      "metadata": {
        "id": "eNW3bHgBNprq"
      }
    },
    {
      "cell_type": "code",
      "source": [
        "def executeTool(toolCall):\n",
        "    \"\"\"\n",
        "    Executes a tool call using its function name and arguments.\n",
        "\n",
        "    Args:\n",
        "        toolCall: OpenAI tool call object.\n",
        "\n",
        "    Returns:\n",
        "        str: JSON result from tool execution.\n",
        "    \"\"\"\n",
        "    args = json.loads(toolCall.function.arguments)\n",
        "    if toolCall.function.name == \"generateNextSteps\":\n",
        "        return tool_generateNextSteps(args)\n",
        "    elif toolCall.function.name == \"draftEmail\":\n",
        "        return tool_draftEmail(args)\n",
        "    elif toolCall.function.name == \"sendEmail\":\n",
        "        return tool_sendEmail(args)\n",
        "    return json.dumps({\"error\": \"Unknown tool\"})\n"
      ],
      "metadata": {
        "id": "ZnCDmoafNl8v"
      },
      "execution_count": 14,
      "outputs": []
    },
    {
      "cell_type": "markdown",
      "source": [
        "#### 🧪 Main Execution Loop\n",
        "Run the agent that processes the transcript, extracts tasks, drafts emails, and sends them."
      ],
      "metadata": {
        "id": "_f-I8SsiN3IH"
      }
    },
    {
      "cell_type": "code",
      "source": [
        "def runAgentWithTranscript(transcript: str):\n",
        "    \"\"\"\n",
        "    Run the agent on a given transcript to extract next steps and send emails.\n",
        "\n",
        "    Args:\n",
        "        transcript (str): Sales transcript text.\n",
        "    \"\"\"\n",
        "    messages = [{\n",
        "        \"role\": \"user\",\n",
        "        \"content\": f\"Here is a transcript:\\n{transcript}\\n\\nPlease extract next steps and send emails for any task that mentions emailing or sending.\"\n",
        "    }]\n",
        "\n",
        "    response = openai.chat.completions.create(\n",
        "        model=\"gpt-4o\",\n",
        "        messages=messages,\n",
        "        tools=tools\n",
        "    )\n",
        "\n",
        "    message = response.choices[0].message\n",
        "    messages.append(message)\n",
        "\n",
        "    # === Tool Call Execution Loop ===\n",
        "    while message.tool_calls:\n",
        "        for toolCall in message.tool_calls:\n",
        "            result = executeTool(toolCall)\n",
        "            logging.info(f\"[TOOL: {toolCall.function.name}] result:\\n{result}\")\n",
        "            messages.append({\n",
        "                \"role\": \"tool\",\n",
        "                \"tool_call_id\": toolCall.id,\n",
        "                \"content\": result\n",
        "            })\n",
        "\n",
        "        response = openai.chat.completions.create(\n",
        "            model=\"gpt-4o\",\n",
        "            messages=messages,\n",
        "            tools=tools\n",
        "        )\n",
        "        message = response.choices[0].message\n",
        "        messages.append(message)\n",
        "\n",
        "    print(\"\\n[FINAL OUTPUT]:\", message.content or \"[No content returned]\")\n"
      ],
      "metadata": {
        "id": "eOhEKefPNx24"
      },
      "execution_count": 15,
      "outputs": []
    },
    {
      "cell_type": "markdown",
      "source": [
        "#### 🔁 Example Usage\n",
        "Now let’s run the agent with an example transcript."
      ],
      "metadata": {
        "id": "qfXJ-ELdON4f"
      }
    },
    {
      "cell_type": "code",
      "source": [
        "if __name__ == \"__main__\":\n",
        "\n",
        "    transcript = \"\"\"\n",
        "Harsh: Hey Ayush, good discussion today. Can you send the revised proposal to me at test@gmail.com by Friday evening? I need to go through it before our Monday call.\n",
        "\n",
        "Ayush: Sure, I’ll send it across by EOD Friday.\n",
        "\n",
        "Harsh: Also, can you follow up with finance at test@gmailcom about the discount approval? They haven't responded yet.\n",
        "\n",
        "Ayush: Yeah, I’ll send them a nudge.\n",
        "\n",
        "Harsh: Perfect. Lastly, let’s aim for a product demo with the client team next Tuesday at 11 AM. I’ll check if they’re available.\n",
        "\n",
        "Ayush: Alright, I’ll tentatively block the slot.\n",
        "\"\"\"\n",
        "\n",
        "    runAgentWithTranscript(transcript)"
      ],
      "metadata": {
        "colab": {
          "base_uri": "https://localhost:8080/"
        },
        "id": "pTjjZkg6OJeo",
        "outputId": "4c6f1cb1-c4ee-483e-b34f-cb37757e2e47"
      },
      "execution_count": 17,
      "outputs": [
        {
          "output_type": "stream",
          "name": "stdout",
          "text": [
            "\n",
            "[FINAL OUTPUT]: The tasks have been completed and the following emails have been sent:\n",
            "\n",
            "1. **To Harsh at test@gmail.com:**  \n",
            "   - **Subject:** Submission of Revised Proposal\n",
            "   - **Email Content:**  \n",
            "     Hi Harsh,\n",
            "     \n",
            "     I hope this message finds you well. I wanted to inform you that the revised proposal has been completed. I will be sending it over to you by Friday evening, as discussed.\n",
            "     \n",
            "     Please let me know if there are any other requirements or further adjustments needed.\n",
            "     \n",
            "     Thank you for your patience and cooperation.\n",
            "     \n",
            "     Best Regards,  \n",
            "     Akshat Anand\n",
            "\n",
            "2. **To Finance Team at test@gmailcom:**  \n",
            "   - **Subject:** Inquiry on Discount Approval\n",
            "   - **Email Content:**  \n",
            "     Dear Finance Team,\n",
            "     \n",
            "     I hope this message finds you well. I am writing to follow up on the status of the discount approval process. Could you please provide an update at your earliest convenience? Your assistance in this matter is greatly appreciated.\n",
            "     \n",
            "     Thank you for your attention to this request.\n",
            "     \n",
            "     Best Regards,  \n",
            "     Akshat Anand\n"
          ]
        }
      ]
    },
    {
      "cell_type": "code",
      "source": [],
      "metadata": {
        "id": "nK5rQ_yFOT1V"
      },
      "execution_count": null,
      "outputs": []
    }
  ]
}