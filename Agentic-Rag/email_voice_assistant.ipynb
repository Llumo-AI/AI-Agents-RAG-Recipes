{
  "nbformat": 4,
  "nbformat_minor": 0,
  "metadata": {
    "colab": {
      "provenance": []
    },
    "kernelspec": {
      "name": "python3",
      "display_name": "Python 3"
    },
    "language_info": {
      "name": "python"
    }
  },
  "cells": [
    {
      "cell_type": "markdown",
      "source": [
        "# 🎤 Voice-Based Assistant for Email & Meeting Scheduling using OpenAI Function Calling\n",
        "\n",
        "This notebook demonstrates a voice-controlled assistant that can perform tasks like sending emails and scheduling meetings using OpenAI's function calling feature.\n",
        "\n",
        "**🔍 What this notebook does:**\n",
        "- Records your voice command using a microphone.\n",
        "\n",
        "- Transcribes the audio to text using Whisper (an automatic speech recognition model by OpenAI).\n",
        "\n",
        "- Processes the command using OpenAI GPT-4o, which decides whether to send an email or schedule a meeting.\n",
        "\n",
        "- Executes the relevant function and displays the response.\n",
        "\n",
        "- Provides a user-friendly interface via Gradio.\n",
        "\n",
        "**💡 Example Commands:**\n",
        "- \"Send an email to John with the subject Project Update and the body Please check the latest report.\"\n",
        "\n",
        "- \"Schedule a meeting with Alice and Bob on April 10 at 3 PM.\"\n"
      ],
      "metadata": {
        "id": "LA3dR6jZAEKZ"
      }
    },
    {
      "cell_type": "markdown",
      "source": [
        "**🛠️ 1. Install Required Libraries**"
      ],
      "metadata": {
        "id": "a3FjaIwK9nTm"
      }
    },
    {
      "cell_type": "code",
      "source": [
        "# Install all necessary libraries\n",
        "!pip install openai whisper torch torchaudio gTTS google-api-python-client google-auth google-auth-oauthlib google-auth-httplib2 gradio scipy --quiet"
      ],
      "metadata": {
        "id": "nIBAwulcu387"
      },
      "execution_count": 17,
      "outputs": []
    },
    {
      "cell_type": "markdown",
      "source": [
        "**🔐 2. Setup API Key**"
      ],
      "metadata": {
        "id": "QE7Xyl7u9s_C"
      }
    },
    {
      "cell_type": "code",
      "source": [
        "import openai\n",
        "from google.colab import userdata\n",
        "\n",
        "open_ai_key = userdata.get(\"OPENAI_API_KEY\")\n",
        "# Replace with your own OpenAI key\n",
        "openai.api_key = open_ai_key"
      ],
      "metadata": {
        "id": "pOccqVIF9skq"
      },
      "execution_count": 23,
      "outputs": []
    },
    {
      "cell_type": "markdown",
      "source": [
        "**🧠 3. OpenAI Client and Tool Definitions**"
      ],
      "metadata": {
        "id": "lTHmqlTp90Aq"
      }
    },
    {
      "cell_type": "code",
      "source": [
        "import os\n",
        "import json\n",
        "from openai import OpenAI\n",
        "\n",
        "# Create OpenAI client\n",
        "def get_client():\n",
        "    return OpenAI(api_key=openai.api_key)\n",
        "\n",
        "# Define Email function\n",
        "def send_email(recipient, subject, body):\n",
        "    return f\"📧 Email sent to {recipient} with subject '{subject}' and body '{body}'.\"\n",
        "\n",
        "# Define Meeting Scheduler function\n",
        "def schedule_meeting(participants, date, time):\n",
        "    return f\"📅 Meeting scheduled with {', '.join(participants)} on {date} at {time}.\"\n",
        "\n",
        "# Define tools in OpenAI format\n",
        "tools = [\n",
        "    {\n",
        "        \"type\": \"function\",\n",
        "        \"function\": {\n",
        "            \"name\": \"send_email\",\n",
        "            \"description\": \"Send an email\",\n",
        "            \"parameters\": {\n",
        "                \"type\": \"object\",\n",
        "                \"properties\": {\n",
        "                    \"recipient\": {\"type\": \"string\"},\n",
        "                    \"subject\": {\"type\": \"string\"},\n",
        "                    \"body\": {\"type\": \"string\"}\n",
        "                },\n",
        "                \"required\": [\"recipient\", \"subject\", \"body\"]\n",
        "            }\n",
        "        }\n",
        "    },\n",
        "    {\n",
        "        \"type\": \"function\",\n",
        "        \"function\": {\n",
        "            \"name\": \"schedule_meeting\",\n",
        "            \"description\": \"Schedule a meeting\",\n",
        "            \"parameters\": {\n",
        "                \"type\": \"object\",\n",
        "                \"properties\": {\n",
        "                    \"participants\": {\"type\": \"array\", \"items\": {\"type\": \"string\"}},\n",
        "                    \"date\": {\"type\": \"string\"},\n",
        "                    \"time\": {\"type\": \"string\"}\n",
        "                },\n",
        "                \"required\": [\"participants\", \"date\", \"time\"]\n",
        "            }\n",
        "        }\n",
        "    }\n",
        "]"
      ],
      "metadata": {
        "id": "2zt8Brbs92BT"
      },
      "execution_count": 25,
      "outputs": []
    },
    {
      "cell_type": "markdown",
      "source": [
        "**🧾 4. Function to Process Text with OpenAI Agent**"
      ],
      "metadata": {
        "id": "W4p5dGI399Im"
      }
    },
    {
      "cell_type": "code",
      "source": [
        "def process_query(text):\n",
        "    client = get_client()\n",
        "    response = client.chat.completions.create(\n",
        "        model=\"gpt-4o\",\n",
        "        messages=[{\"role\": \"user\", \"content\": text}],\n",
        "        tools=tools,\n",
        "        tool_choice=\"auto\"\n",
        "    )\n",
        "\n",
        "    message = response.choices[0].message\n",
        "\n",
        "    if message.tool_calls:\n",
        "        tool_call = message.tool_calls[0]\n",
        "        function_name = tool_call.function.name\n",
        "        arguments = json.loads(tool_call.function.arguments)\n",
        "\n",
        "        if function_name == \"send_email\":\n",
        "            return send_email(**arguments)\n",
        "        elif function_name == \"schedule_meeting\":\n",
        "            return schedule_meeting(**arguments)\n",
        "\n",
        "    return message.content or \"✅ No tool call needed.\""
      ],
      "metadata": {
        "id": "xgcBidvm9_5L"
      },
      "execution_count": 26,
      "outputs": []
    },
    {
      "cell_type": "markdown",
      "source": [
        "**🎙️ 5. Handle Voice Input and Transcription**"
      ],
      "metadata": {
        "id": "gWisbtz0-DMa"
      }
    },
    {
      "cell_type": "code",
      "source": [
        "import whisper\n",
        "import scipy.io.wavfile\n",
        "\n",
        "def voice_assistant(audio_file):\n",
        "    if audio_file is None:\n",
        "        return \"No audio recorded.\"\n",
        "\n",
        "    try:\n",
        "        sample_rate, data = audio_file\n",
        "        scipy.io.wavfile.write(\"recorded.wav\", sample_rate, data)\n",
        "\n",
        "        model = whisper.load_model(\"base\")\n",
        "        result = model.transcribe(\"recorded.wav\")\n",
        "        print(\"🔊 Transcribed Text:\", result[\"text\"])\n",
        "\n",
        "        response = process_query(result[\"text\"])\n",
        "        return response\n",
        "\n",
        "    except Exception as e:\n",
        "        return f\"Error: {str(e)}\""
      ],
      "metadata": {
        "id": "N-Wg3e4Q-CkG"
      },
      "execution_count": 27,
      "outputs": []
    },
    {
      "cell_type": "markdown",
      "source": [
        "**🚀 6. Launch Gradio Interface**"
      ],
      "metadata": {
        "id": "aFwU6hYc-Jiu"
      }
    },
    {
      "cell_type": "code",
      "source": [
        "import gradio as gr\n",
        "\n",
        "with gr.Blocks() as demo:\n",
        "    gr.Markdown(\"## 🎙️ Voice Assistant for Email & Meeting Scheduling\")\n",
        "    audio_input = gr.Audio(label=\"Speak your command\", type=\"numpy\")\n",
        "    output_text = gr.Textbox(label=\"Assistant Response\")\n",
        "    submit_btn = gr.Button(\"Submit\")\n",
        "\n",
        "    submit_btn.click(fn=voice_assistant, inputs=audio_input, outputs=output_text)\n",
        "\n",
        "demo.launch()"
      ],
      "metadata": {
        "colab": {
          "base_uri": "https://localhost:8080/",
          "height": 645
        },
        "id": "RpgTAuQi-NN5",
        "outputId": "684107dd-afd3-4322-cd81-39052773d61a"
      },
      "execution_count": 29,
      "outputs": [
        {
          "output_type": "stream",
          "name": "stdout",
          "text": [
            "Running Gradio in a Colab notebook requires sharing enabled. Automatically setting `share=True` (you can turn this off by setting `share=False` in `launch()` explicitly).\n",
            "\n",
            "Colab notebook detected. To show errors in colab notebook, set debug=True in launch()\n",
            "* Running on public URL: https://d1f77947719d6cf111.gradio.live\n",
            "\n",
            "This share link expires in 72 hours. For free permanent hosting and GPU upgrades, run `gradio deploy` from the terminal in the working directory to deploy to Hugging Face Spaces (https://huggingface.co/spaces)\n"
          ]
        },
        {
          "output_type": "display_data",
          "data": {
            "text/plain": [
              "<IPython.core.display.HTML object>"
            ],
            "text/html": [
              "<div><iframe src=\"https://d1f77947719d6cf111.gradio.live\" width=\"100%\" height=\"500\" allow=\"autoplay; camera; microphone; clipboard-read; clipboard-write;\" frameborder=\"0\" allowfullscreen></iframe></div>"
            ]
          },
          "metadata": {}
        },
        {
          "output_type": "execute_result",
          "data": {
            "text/plain": []
          },
          "metadata": {},
          "execution_count": 29
        }
      ]
    },
    {
      "cell_type": "code",
      "source": [],
      "metadata": {
        "id": "HiAQySpP_maa"
      },
      "execution_count": null,
      "outputs": []
    }
  ]
}
