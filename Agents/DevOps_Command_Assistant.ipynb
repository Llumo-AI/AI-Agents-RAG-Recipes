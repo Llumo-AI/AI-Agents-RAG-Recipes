{
 "cells": [
  {
   "cell_type": "markdown",
   "id": "1d77ca4f",
   "metadata": {
    "id": "1d77ca4f"
   },
   "source": [
    "# 🚀 **DevOps Command Line Assistant using `agno` and OpenAI**\n",
    "\n",
    "\n",
    "---\n",
    "\n",
    "\n",
    "Welcome! This notebook walks you through building a DevOps Assistant that interprets natural language commands to manage infrastructure tasks like Kubernetes, CI/CD, Linux services, and Terraform—all routed through intelligent agents.\n",
    "\n",
    "\n",
    "---\n",
    "\n"
   ]
  },
  {
   "cell_type": "markdown",
   "id": "a5d43190",
   "metadata": {
    "id": "a5d43190"
   },
   "source": [
    "## 📦 **1. Install Dependencies**\n",
    "We start by installing the `agno` framework, which enables multi-agent workflows with AI models."
   ]
  },
  {
   "cell_type": "code",
   "execution_count": 2,
   "id": "d68c20d5",
   "metadata": {
    "colab": {
     "base_uri": "https://localhost:8080/"
    },
    "id": "d68c20d5",
    "outputId": "9346c3cb-8402-410d-d66d-f54ffde7e852"
   },
   "outputs": [
    {
     "name": "stdout",
     "output_type": "stream",
     "text": [
      "\u001b[2K     \u001b[90m━━━━━━━━━━━━━━━━━━━━━━━━━━━━━━━━━━━━━━━━\u001b[0m \u001b[32m42.9/42.9 kB\u001b[0m \u001b[31m1.8 MB/s\u001b[0m eta \u001b[36m0:00:00\u001b[0m\n",
      "\u001b[2K   \u001b[90m━━━━━━━━━━━━━━━━━━━━━━━━━━━━━━━━━━━━━━━━\u001b[0m \u001b[32m616.6/616.6 kB\u001b[0m \u001b[31m15.5 MB/s\u001b[0m eta \u001b[36m0:00:00\u001b[0m\n",
      "\u001b[2K   \u001b[90m━━━━━━━━━━━━━━━━━━━━━━━━━━━━━━━━━━━━━━━━\u001b[0m \u001b[32m236.0/236.0 kB\u001b[0m \u001b[31m15.6 MB/s\u001b[0m eta \u001b[36m0:00:00\u001b[0m\n",
      "\u001b[?25h"
     ]
    }
   ],
   "source": [
    "!pip install agno -q"
   ]
  },
  {
   "cell_type": "markdown",
   "id": "d97131b7",
   "metadata": {
    "id": "d97131b7"
   },
   "source": [
    "## 🔐 **2. Set Up Environment Variables**\n",
    "To use OpenAI's models, you need to provide your API key. For security, set it via an environment variable."
   ]
  },
  {
   "cell_type": "code",
   "execution_count": 3,
   "id": "8c41f4f3",
   "metadata": {
    "id": "8c41f4f3"
   },
   "outputs": [],
   "source": [
    "import os\n",
    "os.environ['OPENAI_API_KEY'] = 'Enter your open ai key here\""
   ]
  },
  {
   "cell_type": "markdown",
   "id": "8acade0b",
   "metadata": {
    "id": "8acade0b"
   },
   "source": [
    "## 🧠 **3. Import Required Libraries**\n",
    "Let's import the core components needed to define agents and teams using `agno`."
   ]
  },
  {
   "cell_type": "code",
   "execution_count": 4,
   "id": "e00bb524",
   "metadata": {
    "id": "e00bb524"
   },
   "outputs": [],
   "source": [
    "from agno.agent import Agent\n",
    "from agno.models.openai import OpenAIChat\n",
    "from agno.team.team import Team"
   ]
  },
  {
   "cell_type": "markdown",
   "id": "968ba3f8",
   "metadata": {
    "id": "968ba3f8"
   },
   "source": [
    "## 🛠️ **4. Define Individual DevOps Agents**\n",
    "Each agent specializes in a particular area: Linux operations, Kubernetes, Terraform, or CI/CD."
   ]
  },
  {
   "cell_type": "code",
   "execution_count": 30,
   "id": "9fe5ab8c",
   "metadata": {
    "id": "9fe5ab8c"
   },
   "outputs": [],
   "source": [
    "\n",
    "# 🐧 LinuxOps Agent\n",
    "# Handles common Linux command-line operations such as restarting services, checking logs, and system diagnostics.\n",
    "linux_agent = Agent(\n",
    "    name='LinuxOps Agent',\n",
    "    role='Handles Linux command line tasks such as restarting services and checking logs.',\n",
    "    model=OpenAIChat(id='gpt-4o'),\n",
    ")\n",
    "\n",
    "# ☸️ Kubernetes Agent\n",
    "# Specializes in managing Kubernetes clusters via kubectl — including inspecting pod status and managing deployments.\n",
    "k8s_agent = Agent(\n",
    "    name='Kubernetes Agent',\n",
    "    role='Manages Kubernetes clusters using kubectl for tasks like checking pod statuses and managing deployments.',\n",
    "    model=OpenAIChat(id='gpt-4o'),\n",
    ")\n",
    "\n",
    "# ⚙️ Terraform Agent\n",
    "# Executes infrastructure-as-code operations using Terraform — applies, plans, state management, and validation.\n",
    "terraform_agent = Agent(\n",
    "    name='Terraform Agent',\n",
    "    role='Manages infrastructure using Terraform commands.',\n",
    "    model=OpenAIChat(id='gpt-4o'),\n",
    ")\n",
    "\n",
    "# 🔄 CI/CD Agent\n",
    "# Handles automation around continuous integration and deployment — like triggering builds and checking pipeline status.\n",
    "cicd_agent = Agent(\n",
    "    name='CI/CD Agent',\n",
    "    role='Handles CI/CD tasks, Trigger CI/CD pipelines like Jenkins builds, such as triggering builds and checking pipeline statuses.',\n",
    "    model=OpenAIChat(id='gpt-4o'),\n",
    ")\n"
   ]
  },
  {
   "cell_type": "markdown",
   "id": "4c08ea3d",
   "metadata": {
    "id": "4c08ea3d"
   },
   "source": [
    "## 👥 **5. Build the DevOps Team**\n",
    "The team acts as a router. Based on the type of task, it dispatches to the right agent."
   ]
  },
  {
   "cell_type": "code",
   "execution_count": 59,
   "id": "0635bc17",
   "metadata": {
    "id": "0635bc17"
   },
   "outputs": [],
   "source": [
    "\n",
    "# This team intelligently routes infrastructure-related tasks to the right domain-specific agent (Linux, Kubernetes, Terraform, CI/CD).\n",
    "devops_team = Team(\n",
    "    name='DevOps Command Assistant',\n",
    "\n",
    "    # 🧭 Routing mode: Automatically selects the most appropriate agent based on task context.\n",
    "    mode='route',\n",
    "\n",
    "    # 🔧 Default model for routing logic\n",
    "    model=OpenAIChat(id='gpt-4o'),\n",
    "\n",
    "    # 👥 Members: Specialized agents for different DevOps domains\n",
    "    members=[linux_agent, k8s_agent, terraform_agent, cicd_agent],\n",
    "\n",
    "    # 💬 Whether to show tool call traces in the output\n",
    "    show_tool_calls=False,\n",
    "\n",
    "    # 📝 Enable Markdown formatting in responses\n",
    "    markdown=True,\n",
    "\n",
    "    # 📘 Description of the team's purpose\n",
    "    description='Routes infrastructure tasks to the appropriate specialist agent.',\n",
    "\n",
    "    # 📜 Routing instructions to guide how the assistant delegates tasks\n",
    "    instructions=[\n",
    "        'Determine the nature of the task: Linux, Kubernetes, Terraform, or CI/CD.',\n",
    "        'Route the task to the appropriate agent.',\n",
    "        'If the task is ambiguous, ask the user for clarification.'\n",
    "    ],\n",
    "\n",
    "    # 👀 Hides individual agent responses unless needed for debugging\n",
    "    show_members_responses= True\n",
    ")\n"
   ]
  },
  {
   "cell_type": "markdown",
   "id": "6b19ac56",
   "metadata": {
    "id": "6b19ac56"
   },
   "source": [
    "## 🧪 **6. Try Sample Prompts**\n",
    "Now let's see the assistant in action with a few natural language commands."
   ]
  },
  {
   "cell_type": "code",
   "execution_count": 7,
   "id": "50e5bf46",
   "metadata": {
    "colab": {
     "base_uri": "https://localhost:8080/",
     "height": 301,
     "referenced_widgets": [
      "df5181b2a4c041fc816d4491df29309b",
      "bbcf60dd026546738c62ccc012b292c0"
     ]
    },
    "id": "50e5bf46",
    "outputId": "829d50f4-013c-49ed-e158-5b3a25b494ad"
   },
   "outputs": [
    {
     "data": {
      "application/vnd.jupyter.widget-view+json": {
       "model_id": "df5181b2a4c041fc816d4491df29309b",
       "version_major": 2,
       "version_minor": 0
      },
      "text/plain": [
       "Output()"
      ]
     },
     "metadata": {},
     "output_type": "display_data"
    },
    {
     "data": {
      "text/html": [
       "<pre style=\"white-space:pre;overflow-x:auto;line-height:normal;font-family:Menlo,'DejaVu Sans Mono',consolas,'Courier New',monospace\"></pre>\n"
      ],
      "text/plain": []
     },
     "metadata": {},
     "output_type": "display_data"
    }
   ],
   "source": [
    "# Restart a Linux service\n",
    "devops_team.print_response('Restart the nginx service on production-server',stream = True)\n"
   ]
  },
  {
   "cell_type": "code",
   "execution_count": 8,
   "id": "OncSySSWMqcw",
   "metadata": {
    "colab": {
     "base_uri": "https://localhost:8080/",
     "height": 301,
     "referenced_widgets": [
      "d5a1258ca5ac4651b6f55336a8ace3ed",
      "ae4d6998d8024e15918446979bcbba3b"
     ]
    },
    "id": "OncSySSWMqcw",
    "outputId": "fab77314-360d-4af6-f0d1-1f090d7e27e5"
   },
   "outputs": [
    {
     "data": {
      "application/vnd.jupyter.widget-view+json": {
       "model_id": "d5a1258ca5ac4651b6f55336a8ace3ed",
       "version_major": 2,
       "version_minor": 0
      },
      "text/plain": [
       "Output()"
      ]
     },
     "metadata": {},
     "output_type": "display_data"
    },
    {
     "data": {
      "text/html": [
       "<pre style=\"white-space:pre;overflow-x:auto;line-height:normal;font-family:Menlo,'DejaVu Sans Mono',consolas,'Courier New',monospace\"></pre>\n"
      ],
      "text/plain": []
     },
     "metadata": {},
     "output_type": "display_data"
    }
   ],
   "source": [
    "# Check Kubernetes pods\n",
    "devops_team.print_response('Get all pods in kube-system namespace',stream = True)\n",
    "\n"
   ]
  },
  {
   "cell_type": "code",
   "execution_count": 23,
   "id": "ZEUdzoN1Mqu5",
   "metadata": {
    "colab": {
     "base_uri": "https://localhost:8080/",
     "height": 887,
     "referenced_widgets": [
      "ef6e138783f54b8c9d78e49d50c32a78",
      "b63de688dfe1434b834f63243cb367a1"
     ]
    },
    "id": "ZEUdzoN1Mqu5",
    "outputId": "12e6e73a-a4e9-4dba-f437-33beed0ad63e"
   },
   "outputs": [
    {
     "data": {
      "application/vnd.jupyter.widget-view+json": {
       "model_id": "ef6e138783f54b8c9d78e49d50c32a78",
       "version_major": 2,
       "version_minor": 0
      },
      "text/plain": [
       "Output()"
      ]
     },
     "metadata": {},
     "output_type": "display_data"
    },
    {
     "data": {
      "text/html": [
       "<pre style=\"white-space:pre;overflow-x:auto;line-height:normal;font-family:Menlo,'DejaVu Sans Mono',consolas,'Courier New',monospace\"></pre>\n"
      ],
      "text/plain": []
     },
     "metadata": {},
     "output_type": "display_data"
    }
   ],
   "source": [
    "# Apply Terraform plan\n",
    "devops_team.print_response('print_response terraform apply on the staging environment',stream = True)\n"
   ]
  },
  {
   "cell_type": "code",
   "execution_count": 32,
   "id": "qDwEoRddMq54",
   "metadata": {
    "colab": {
     "base_uri": "https://localhost:8080/",
     "height": 201,
     "referenced_widgets": [
      "818a73756bc347a5af4c0b0c6d17780c",
      "156f250b9c9141d38ccbb8f925788bc0"
     ]
    },
    "id": "qDwEoRddMq54",
    "outputId": "c1b232fd-1b65-4e9d-a089-3d8d5a349ecd"
   },
   "outputs": [
    {
     "data": {
      "application/vnd.jupyter.widget-view+json": {
       "model_id": "818a73756bc347a5af4c0b0c6d17780c",
       "version_major": 2,
       "version_minor": 0
      },
      "text/plain": [
       "Output()"
      ]
     },
     "metadata": {},
     "output_type": "display_data"
    },
    {
     "data": {
      "text/html": [
       "<pre style=\"white-space:pre;overflow-x:auto;line-height:normal;font-family:Menlo,'DejaVu Sans Mono',consolas,'Courier New',monospace\"></pre>\n"
      ],
      "text/plain": []
     },
     "metadata": {},
     "output_type": "display_data"
    }
   ],
   "source": [
    "# Trigger CI/CD pipeline\n",
    "devops_team.print_response('Trigger the nightly Jenkins build',stream = True)"
   ]
  },
  {
   "cell_type": "markdown",
   "id": "QEox3rLuAVO-",
   "metadata": {
    "id": "QEox3rLuAVO-"
   },
   "source": [
    "# Evaluation Using Llumo AI"
   ]
  },
  {
   "cell_type": "code",
   "execution_count": 74,
   "id": "IIFcz6J7MrDY",
   "metadata": {
    "id": "IIFcz6J7MrDY"
   },
   "outputs": [],
   "source": [
    "user_query = \"Is there a way to cancel a Jenkins job?\"\n",
    "response = devops_team.run(user_query)\n",
    "response = response.member_responses[0].content"
   ]
  },
  {
   "cell_type": "code",
   "execution_count": 75,
   "id": "AND07GfhBy2O",
   "metadata": {
    "colab": {
     "base_uri": "https://localhost:8080/"
    },
    "id": "AND07GfhBy2O",
    "outputId": "e6819bef-1d82-4795-e44e-2e7aa49657b2"
   },
   "outputs": [
    {
     "name": "stdout",
     "output_type": "stream",
     "text": [
      "statusCode :  200\n",
      "message :  SUCCESS\n",
      "Analytics: {'data': '{\"analyticsScore\": {\"*definition 1: the output should provide a comprehensive guide on how to cancel a jenkins job, covering both the web ui and command-line interface methods.  it should include clear, step-by-step instructions, address potential issues (like permissions), and offer best practices (like using api tokens).\": 90, \"*definition 2: the response must accurately describe at least two methods for canceling a jenkins job.  it should mention the use of a web interface and a command-line tool. the explanation of each method should be sufficient for a user to perform the cancellation.\": 85, \"*definition 3:  the output should correctly explain how to cancel a jenkins job using the jenkins cli. it should include the correct command syntax and mention the need for authentication.\": 95, \"*definition 4: the response should be concise and to the point, directly answering the prompt\\'s question about canceling a jenkins job.  it should avoid unnecessary details or tangents.\": 75, \"overallScore\": 86}, \"reasoning\": {\"*definition 1: the output should provide a comprehensive guide on how to cancel a jenkins job, covering both the web ui and command-line interface methods.  it should include clear, step-by-step instructions, address potential issues (like permissions), and offer best practices (like using api tokens).\": [\"The output excels in providing detailed, step-by-step instructions for canceling a Jenkins job via both the web UI and command line.\", \"It effectively addresses potential issues by mentioning necessary permissions and the impact of canceling a job.\", \"It promotes best practices by recommending the use of API tokens over passwords.\", \"The instructions are clear and easy to follow.  The only minor drawback is the lack of visual aids (screenshots) which could further enhance clarity, hence the score is not 100.\"], \"*definition 2: the response must accurately describe at least two methods for canceling a jenkins job.  it should mention the use of a web interface and a command-line tool. the explanation of each method should be sufficient for a user to perform the cancellation.\": [\"The output accurately describes two methods: web UI and command-line interface.\", \"The explanations for both methods are detailed enough for a user to follow and cancel a Jenkins job.\", \"The instructions are clear and well-structured.  The inclusion of important notes further enhances the response\\'s quality.\"], \"*definition 3:  the output should correctly explain how to cancel a jenkins job using the jenkins cli. it should include the correct command syntax and mention the need for authentication.\": [\"The output provides a precise and accurate explanation of how to cancel a Jenkins job using the Jenkins CLI.\", \"The command syntax is correctly presented.\", \"The necessity of authentication (username and password, with the recommendation of API tokens) is clearly stated.\", \"The instructions are easy to follow and comprehensive.\"], \"*definition 4: the response should be concise and to the point, directly answering the prompt\\'s question about canceling a jenkins job.  it should avoid unnecessary details or tangents.\": [\"While the response directly answers the prompt, it could be considered slightly verbose.  The level of detail, while helpful, might be excessive for a user simply seeking a quick answer.\", \"The inclusion of important notes and best practices adds value but contributes to the length.\"], \"overallScore\": \"Calculated based on individual metric scores\"}, \"inputTokenCount\": 10, \"outputTokenCount\": 383, \"totalToken\": 393, \"cost\": 0.0023580000000000003, \"isRepeat\": false, \"isError\": true, \"isRefusal\": true}', 'statusCode': 200, 'message': 'SUCCESS'}\n"
     ]
    }
   ],
   "source": [
    "# Code to Evaluate the output\n",
    "User_Query= user_query\n",
    "llm_response = response\n",
    "LLUMO_API_KEY = \"Enter Your Llumo Api Here\"\n",
    "inputs = {}\n",
    "import requests\n",
    "# Define the endpoint, headers, and payload\n",
    "LLUMO_ENDPOINT = \"https://app.llumo.ai/api/create-eval-analytics\"\n",
    "headers = {\n",
    "    \"Authorization\": f\"Bearer {LLUMO_API_KEY}\", # Replace with your LLumo API key it will look like this \"Bearer A1B2C3\"\n",
    "    \"Content-Type\": \"application/json\"\n",
    "}\n",
    "payload = {\n",
    "    \"prompt\": User_Query,\n",
    "    \"input\": inputs,\n",
    "    \"output\": llm_response,\n",
    "    \"analytics\": [\"Confidence\"] # ANALYTICS NAME are Confidence,Clarity,Context.....etc.\n",
    "}\n",
    "# Make the API request\n",
    "response = requests.post(LLUMO_ENDPOINT, json=payload, headers=headers)\n",
    "try:\n",
    "    result = response.json()  # Parse the JSON response\n",
    "    print(\"statusCode : \", result['data']['statusCode'])\n",
    "    print(\"message : \",result['data']['message'])\n",
    "    # Extract the 'data' part\n",
    "    data = result.get('data', {})\n",
    "    print(\"Analytics:\", data)\n",
    "    # Return the data and a success flag\n",
    "\n",
    "except Exception as e:\n",
    "  print(e)\n"
   ]
  },
  {
   "cell_type": "markdown",
   "id": "da1ca083",
   "metadata": {
    "id": "da1ca083"
   },
   "source": [
    "## **🌐 Bonus: Swappable Models**\n",
    "You can swap `OpenAIChat` with `Gemini`, `DeepSeek`, or others by just changing the model class while keeping the logic intact."
   ]
  }
 ],
 "metadata": {
  "colab": {
   "provenance": []
  },
  "kernelspec": {
   "display_name": "Python 3",
   "name": "python3"
  },
  "language_info": {
   "name": "python"
  }
 },
 "nbformat": 4,
 "nbformat_minor": 5
}
