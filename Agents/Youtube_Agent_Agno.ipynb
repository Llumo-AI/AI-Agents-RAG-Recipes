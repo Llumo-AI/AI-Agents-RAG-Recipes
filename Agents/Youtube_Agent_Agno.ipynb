{
  "nbformat": 4,
  "nbformat_minor": 0,
  "metadata": {
    "colab": {
      "provenance": []
    },
    "kernelspec": {
      "name": "python3",
      "display_name": "Python 3"
    },
    "language_info": {
      "name": "python"
    },
    "widgets": {
      "application/vnd.jupyter.widget-state+json": {
        "8f293cdbca30489ea5f5938d79cb6784": {
          "model_module": "@jupyter-widgets/output",
          "model_name": "OutputModel",
          "model_module_version": "1.0.0",
          "state": {
            "_dom_classes": [],
            "_model_module": "@jupyter-widgets/output",
            "_model_module_version": "1.0.0",
            "_model_name": "OutputModel",
            "_view_count": null,
            "_view_module": "@jupyter-widgets/output",
            "_view_module_version": "1.0.0",
            "_view_name": "OutputView",
            "layout": "IPY_MODEL_cced458f0cbd461e821fc46fd1e2db57",
            "msg_id": "",
            "outputs": [
              {
                "output_type": "display_data",
                "data": {
                  "text/plain": "\u001b[32m▰▰▱▱▱▱▱\u001b[0m Thinking...\n\u001b[36m┏━\u001b[0m\u001b[36m Message \u001b[0m\u001b[36m━━━━━━━━━━━━━━━━━━━━━━━━━━━━━━━━━━━━━━━━━━━━━━━━━━━━━━━━━━━━━━━━━━━━━━━━━━━━━━━━━━━━━━━━━━━━━━━━━━━━━━\u001b[0m\u001b[36m━┓\u001b[0m\n\u001b[36m┃\u001b[0m                                                                                                                 \u001b[36m┃\u001b[0m\n\u001b[36m┃\u001b[0m \u001b[32mSummarize this video: https://www.youtube.com/watch?v=XN6dSSx6Ehg\u001b[0m                                               \u001b[36m┃\u001b[0m\n\u001b[36m┃\u001b[0m                                                                                                                 \u001b[36m┃\u001b[0m\n\u001b[36m┗━━━━━━━━━━━━━━━━━━━━━━━━━━━━━━━━━━━━━━━━━━━━━━━━━━━━━━━━━━━━━━━━━━━━━━━━━━━━━━━━━━━━━━━━━━━━━━━━━━━━━━━━━━━━━━━━━┛\u001b[0m\n\u001b[33m┏━\u001b[0m\u001b[33m Tool Calls \u001b[0m\u001b[33m━━━━━━━━━━━━━━━━━━━━━━━━━━━━━━━━━━━━━━━━━━━━━━━━━━━━━━━━━━━━━━━━━━━━━━━━━━━━━━━━━━━━━━━━━━━━━━━━━━━\u001b[0m\u001b[33m━┓\u001b[0m\n\u001b[33m┃\u001b[0m                                                                                                                 \u001b[33m┃\u001b[0m\n\u001b[33m┃\u001b[0m • get_youtube_video_captions(url=https://www.youtube.com/watch?v=XN6dSSx6Ehg)                                   \u001b[33m┃\u001b[0m\n\u001b[33m┃\u001b[0m • get_youtube_video_data(url=https://www.youtube.com/watch?v=XN6dSSx6Ehg)                                       \u001b[33m┃\u001b[0m\n\u001b[33m┃\u001b[0m • get_video_timestamps(url=https://www.youtube.com/watch?v=XN6dSSx6Ehg)                                         \u001b[33m┃\u001b[0m\n\u001b[33m┃\u001b[0m                                                                                                                 \u001b[33m┃\u001b[0m\n\u001b[33m┗━━━━━━━━━━━━━━━━━━━━━━━━━━━━━━━━━━━━━━━━━━━━━━━━━━━━━━━━━━━━━━━━━━━━━━━━━━━━━━━━━━━━━━━━━━━━━━━━━━━━━━━━━━━━━━━━━┛\u001b[0m\n\u001b[34m┏━\u001b[0m\u001b[34m Response (11.5s) \u001b[0m\u001b[34m━━━━━━━━━━━━━━━━━━━━━━━━━━━━━━━━━━━━━━━━━━━━━━━━━━━━━━━━━━━━━━━━━━━━━━━━━━━━━━━━━━━━━━━━━━━━━\u001b[0m\u001b[34m━┓\u001b[0m\n\u001b[34m┃\u001b[0m                                                                                                                 \u001b[34m┃\u001b[0m\n\u001b[34m┃\u001b[0m         \u001b[1mVideo Title: \u001b[0m\u001b]8;id=236547;https://www.youtube.com/watch?v=XN6dSSx6Ehg\u001b\\\u001b[1;4;34mAgno: EASILY Build Agents with Memory, Knowledge, Tools & Reasoning! (Opensource)\u001b[0m\u001b]8;;\u001b\\          \u001b[34m┃\u001b[0m\n\u001b[34m┃\u001b[0m                                                                                                                 \u001b[34m┃\u001b[0m\n\u001b[34m┃\u001b[0m \u001b[1mAuthor:\u001b[0m \u001b]8;id=449944;https://www.youtube.com/@intheworldofai\u001b\\\u001b[4;34mWorld of AI\u001b[0m\u001b]8;;\u001b\\                                                                                             \u001b[34m┃\u001b[0m\n\u001b[34m┃\u001b[0m                                                                                                                 \u001b[34m┃\u001b[0m\n\u001b[34m┃\u001b[0m                                                 \u001b[1;2mVideo Summary:\u001b[0m                                                  \u001b[34m┃\u001b[0m\n\u001b[34m┃\u001b[0m                                                                                                                 \u001b[34m┃\u001b[0m\n\u001b[34m┃\u001b[0m \u001b[1;33m 1 \u001b[0m\u001b[1mIntroduction to Agno (0:00-0:54):\u001b[0m                                                                            \u001b[34m┃\u001b[0m\n\u001b[34m┃\u001b[0m \u001b[1;33m   \u001b[0m\u001b[1;33m • \u001b[0mThe framework originally known as \"fi data\" has been rebranded as \"Agno\" with a major upgrade.            \u001b[34m┃\u001b[0m\n\u001b[34m┃\u001b[0m \u001b[1;33m   \u001b[0m\u001b[1;33m • \u001b[0mAgno is an open-source framework for building AI agents with high-performance memory, knowledge, and      \u001b[34m┃\u001b[0m\n\u001b[34m┃\u001b[0m \u001b[1;33m   \u001b[0m\u001b[1;33m   \u001b[0mtools.                                                                                                    \u001b[34m┃\u001b[0m\n\u001b[34m┃\u001b[0m \u001b[1;33m   \u001b[0m\u001b[1;33m • \u001b[0mBuilt on three core principles: Simplicity (pure Python without complex patterns), Performance (fast      \u001b[34m┃\u001b[0m\n\u001b[34m┃\u001b[0m \u001b[1;33m   \u001b[0m\u001b[1;33m   \u001b[0magents with minimal memory), and Flexibility (agnostic to any model or provider).                         \u001b[34m┃\u001b[0m\n\u001b[34m┃\u001b[0m \u001b[1;33m 2 \u001b[0m\u001b[1mPerformance and Optimization (0:54-1:18):\u001b[0m                                                                    \u001b[34m┃\u001b[0m\n\u001b[34m┃\u001b[0m \u001b[1;33m   \u001b[0m\u001b[1;33m • \u001b[0mAgno is highly optimized, outpacing other frameworks such as Lang Graph with 5,000 times faster agent     \u001b[34m┃\u001b[0m\n\u001b[34m┃\u001b[0m \u001b[1;33m   \u001b[0m\u001b[1;33m   \u001b[0minstantiation and 50 times less memory usage.                                                             \u001b[34m┃\u001b[0m\n\u001b[34m┃\u001b[0m \u001b[1;33m 3 \u001b[0m\u001b[1mGetting Started with Agno (1:28-1:41):\u001b[0m                                                                       \u001b[34m┃\u001b[0m\n\u001b[34m┃\u001b[0m \u001b[1;33m   \u001b[0m\u001b[1;33m • \u001b[0mThe video guides on how to set up Agno for creating custom agents, with all code available in Agno's      \u001b[34m┃\u001b[0m\n\u001b[34m┃\u001b[0m \u001b[1;33m   \u001b[0m\u001b[1;33m   \u001b[0mcookbooks.                                                                                                \u001b[34m┃\u001b[0m\n\u001b[34m┃\u001b[0m \u001b[1;33m 4 \u001b[0m\u001b[1mExploring Agno's Agent UI (1:57-3:30):\u001b[0m                                                                       \u001b[34m┃\u001b[0m\n\u001b[34m┃\u001b[0m \u001b[1;33m   \u001b[0m\u001b[1;33m • \u001b[0mAgno features an agent UI with built-in memory, tools, and storage.                                       \u001b[34m┃\u001b[0m\n\u001b[34m┃\u001b[0m \u001b[1;33m   \u001b[0m\u001b[1;33m • \u001b[0mExample demonstrated: Using a web search agent to find the five most trending stocks in seconds.          \u001b[34m┃\u001b[0m\n\u001b[34m┃\u001b[0m \u001b[1;33m   \u001b[0m\u001b[1;33m • \u001b[0mResearch agent example for gathering insights on a topic shows structured informative responses.          \u001b[34m┃\u001b[0m\n\u001b[34m┃\u001b[0m \u001b[1;33m 5 \u001b[0m\u001b[1mLocal Setup Instructions (4:15-7:09):\u001b[0m                                                                        \u001b[34m┃\u001b[0m\n\u001b[34m┃\u001b[0m \u001b[1;33m   \u001b[0m\u001b[1;33m • \u001b[0mTo start locally, install Python and Git, clone the Agno GitHub repository.                               \u001b[34m┃\u001b[0m\n\u001b[34m┃\u001b[0m \u001b[1;33m   \u001b[0m\u001b[1;33m • \u001b[0mProvides a step-by-step guide on setting up a virtual environment and installing required packages.       \u001b[34m┃\u001b[0m\n\u001b[34m┃\u001b[0m \u001b[1;33m 6 \u001b[0m\u001b[1mConfiguring and Using Agents (7:09-9:01):\u001b[0m                                                                    \u001b[34m┃\u001b[0m\n\u001b[34m┃\u001b[0m \u001b[1;33m   \u001b[0m\u001b[1;33m • \u001b[0mDemonstrates setting up basic and tool-enhanced agents with specific examples like setting a              \u001b[34m┃\u001b[0m\n\u001b[34m┃\u001b[0m \u001b[1;33m   \u001b[0m\u001b[1;33m   \u001b[0mnews-report-style agent.                                                                                  \u001b[34m┃\u001b[0m\n\u001b[34m┃\u001b[0m \u001b[1;33m   \u001b[0m\u001b[1;33m • \u001b[0mAnother showcased configuration is using DuckDuckGo for web search functionality.                         \u001b[34m┃\u001b[0m\n\u001b[34m┃\u001b[0m \u001b[1;33m 7 \u001b[0m\u001b[1mAgentic Rag Example (9:17-9:54):\u001b[0m                                                                             \u001b[34m┃\u001b[0m\n\u001b[34m┃\u001b[0m \u001b[1;33m   \u001b[0m\u001b[1;33m • \u001b[0mDiscusses building a Rag system using Agno, handling different data inputs and providing structured       \u001b[34m┃\u001b[0m\n\u001b[34m┃\u001b[0m \u001b[1;33m   \u001b[0m\u001b[1;33m   \u001b[0minformation.                                                                                              \u001b[34m┃\u001b[0m\n\u001b[34m┃\u001b[0m \u001b[1;33m 8 \u001b[0m\u001b[1mConclusion and Recommendations (9:31-9:49):\u001b[0m                                                                  \u001b[34m┃\u001b[0m\n\u001b[34m┃\u001b[0m \u001b[1;33m   \u001b[0m\u001b[1;33m • \u001b[0mThe video recommends exploring and utilizing Agno due to its powerful features and open-source            \u001b[34m┃\u001b[0m\n\u001b[34m┃\u001b[0m \u001b[1;33m   \u001b[0m\u001b[1;33m   \u001b[0maccessibility.                                                                                            \u001b[34m┃\u001b[0m\n\u001b[34m┃\u001b[0m \u001b[1;33m   \u001b[0m\u001b[1;33m • \u001b[0mLinks, credits, and prompts to engage with the channel are provided at the end.                           \u001b[34m┃\u001b[0m\n\u001b[34m┃\u001b[0m                                                                                                                 \u001b[34m┃\u001b[0m\n\u001b[34m┃\u001b[0m The video provides a detailed guide on deploying and customizing AI agents using the newly upgraded Agno        \u001b[34m┃\u001b[0m\n\u001b[34m┃\u001b[0m framework, emphasizing its speed, efficiency, and comprehensive user support.                                   \u001b[34m┃\u001b[0m\n\u001b[34m┃\u001b[0m                                                                                                                 \u001b[34m┃\u001b[0m\n\u001b[34m┗━━━━━━━━━━━━━━━━━━━━━━━━━━━━━━━━━━━━━━━━━━━━━━━━━━━━━━━━━━━━━━━━━━━━━━━━━━━━━━━━━━━━━━━━━━━━━━━━━━━━━━━━━━━━━━━━━┛\u001b[0m\n",
                  "text/html": "<pre style=\"white-space:pre;overflow-x:auto;line-height:normal;font-family:Menlo,'DejaVu Sans Mono',consolas,'Courier New',monospace\"><span style=\"color: #008000; text-decoration-color: #008000\">▰▰▱▱▱▱▱</span> Thinking...\n<span style=\"color: #008080; text-decoration-color: #008080\">┏━ Message ━━━━━━━━━━━━━━━━━━━━━━━━━━━━━━━━━━━━━━━━━━━━━━━━━━━━━━━━━━━━━━━━━━━━━━━━━━━━━━━━━━━━━━━━━━━━━━━━━━━━━━━┓</span>\n<span style=\"color: #008080; text-decoration-color: #008080\">┃</span>                                                                                                                 <span style=\"color: #008080; text-decoration-color: #008080\">┃</span>\n<span style=\"color: #008080; text-decoration-color: #008080\">┃</span> <span style=\"color: #008000; text-decoration-color: #008000\">Summarize this video: https://www.youtube.com/watch?v=XN6dSSx6Ehg</span>                                               <span style=\"color: #008080; text-decoration-color: #008080\">┃</span>\n<span style=\"color: #008080; text-decoration-color: #008080\">┃</span>                                                                                                                 <span style=\"color: #008080; text-decoration-color: #008080\">┃</span>\n<span style=\"color: #008080; text-decoration-color: #008080\">┗━━━━━━━━━━━━━━━━━━━━━━━━━━━━━━━━━━━━━━━━━━━━━━━━━━━━━━━━━━━━━━━━━━━━━━━━━━━━━━━━━━━━━━━━━━━━━━━━━━━━━━━━━━━━━━━━━┛</span>\n<span style=\"color: #808000; text-decoration-color: #808000\">┏━ Tool Calls ━━━━━━━━━━━━━━━━━━━━━━━━━━━━━━━━━━━━━━━━━━━━━━━━━━━━━━━━━━━━━━━━━━━━━━━━━━━━━━━━━━━━━━━━━━━━━━━━━━━━┓</span>\n<span style=\"color: #808000; text-decoration-color: #808000\">┃</span>                                                                                                                 <span style=\"color: #808000; text-decoration-color: #808000\">┃</span>\n<span style=\"color: #808000; text-decoration-color: #808000\">┃</span> • get_youtube_video_captions(url=https://www.youtube.com/watch?v=XN6dSSx6Ehg)                                   <span style=\"color: #808000; text-decoration-color: #808000\">┃</span>\n<span style=\"color: #808000; text-decoration-color: #808000\">┃</span> • get_youtube_video_data(url=https://www.youtube.com/watch?v=XN6dSSx6Ehg)                                       <span style=\"color: #808000; text-decoration-color: #808000\">┃</span>\n<span style=\"color: #808000; text-decoration-color: #808000\">┃</span> • get_video_timestamps(url=https://www.youtube.com/watch?v=XN6dSSx6Ehg)                                         <span style=\"color: #808000; text-decoration-color: #808000\">┃</span>\n<span style=\"color: #808000; text-decoration-color: #808000\">┃</span>                                                                                                                 <span style=\"color: #808000; text-decoration-color: #808000\">┃</span>\n<span style=\"color: #808000; text-decoration-color: #808000\">┗━━━━━━━━━━━━━━━━━━━━━━━━━━━━━━━━━━━━━━━━━━━━━━━━━━━━━━━━━━━━━━━━━━━━━━━━━━━━━━━━━━━━━━━━━━━━━━━━━━━━━━━━━━━━━━━━━┛</span>\n<span style=\"color: #000080; text-decoration-color: #000080\">┏━ Response (11.5s) ━━━━━━━━━━━━━━━━━━━━━━━━━━━━━━━━━━━━━━━━━━━━━━━━━━━━━━━━━━━━━━━━━━━━━━━━━━━━━━━━━━━━━━━━━━━━━━┓</span>\n<span style=\"color: #000080; text-decoration-color: #000080\">┃</span>                                                                                                                 <span style=\"color: #000080; text-decoration-color: #000080\">┃</span>\n<span style=\"color: #000080; text-decoration-color: #000080\">┃</span>         <span style=\"font-weight: bold\">Video Title: </span><a href=\"https://www.youtube.com/watch?v=XN6dSSx6Ehg\" target=\"_blank\"><span style=\"color: #000080; text-decoration-color: #000080; font-weight: bold; text-decoration: underline\">Agno: EASILY Build Agents with Memory, Knowledge, Tools &amp; Reasoning! (Opensource)</span></a>          <span style=\"color: #000080; text-decoration-color: #000080\">┃</span>\n<span style=\"color: #000080; text-decoration-color: #000080\">┃</span>                                                                                                                 <span style=\"color: #000080; text-decoration-color: #000080\">┃</span>\n<span style=\"color: #000080; text-decoration-color: #000080\">┃</span> <span style=\"font-weight: bold\">Author:</span> <a href=\"https://www.youtube.com/@intheworldofai\" target=\"_blank\"><span style=\"color: #000080; text-decoration-color: #000080; text-decoration: underline\">World of AI</span></a>                                                                                             <span style=\"color: #000080; text-decoration-color: #000080\">┃</span>\n<span style=\"color: #000080; text-decoration-color: #000080\">┃</span>                                                                                                                 <span style=\"color: #000080; text-decoration-color: #000080\">┃</span>\n<span style=\"color: #000080; text-decoration-color: #000080\">┃</span>                                                 <span style=\"color: #7f7f7f; text-decoration-color: #7f7f7f; font-weight: bold\">Video Summary:</span>                                                  <span style=\"color: #000080; text-decoration-color: #000080\">┃</span>\n<span style=\"color: #000080; text-decoration-color: #000080\">┃</span>                                                                                                                 <span style=\"color: #000080; text-decoration-color: #000080\">┃</span>\n<span style=\"color: #000080; text-decoration-color: #000080\">┃</span> <span style=\"color: #808000; text-decoration-color: #808000; font-weight: bold\"> 1 </span><span style=\"font-weight: bold\">Introduction to Agno (0:00-0:54):</span>                                                                            <span style=\"color: #000080; text-decoration-color: #000080\">┃</span>\n<span style=\"color: #000080; text-decoration-color: #000080\">┃</span> <span style=\"color: #808000; text-decoration-color: #808000; font-weight: bold\">    • </span>The framework originally known as \"fi data\" has been rebranded as \"Agno\" with a major upgrade.            <span style=\"color: #000080; text-decoration-color: #000080\">┃</span>\n<span style=\"color: #000080; text-decoration-color: #000080\">┃</span> <span style=\"color: #808000; text-decoration-color: #808000; font-weight: bold\">    • </span>Agno is an open-source framework for building AI agents with high-performance memory, knowledge, and      <span style=\"color: #000080; text-decoration-color: #000080\">┃</span>\n<span style=\"color: #000080; text-decoration-color: #000080\">┃</span> <span style=\"color: #808000; text-decoration-color: #808000; font-weight: bold\">      </span>tools.                                                                                                    <span style=\"color: #000080; text-decoration-color: #000080\">┃</span>\n<span style=\"color: #000080; text-decoration-color: #000080\">┃</span> <span style=\"color: #808000; text-decoration-color: #808000; font-weight: bold\">    • </span>Built on three core principles: Simplicity (pure Python without complex patterns), Performance (fast      <span style=\"color: #000080; text-decoration-color: #000080\">┃</span>\n<span style=\"color: #000080; text-decoration-color: #000080\">┃</span> <span style=\"color: #808000; text-decoration-color: #808000; font-weight: bold\">      </span>agents with minimal memory), and Flexibility (agnostic to any model or provider).                         <span style=\"color: #000080; text-decoration-color: #000080\">┃</span>\n<span style=\"color: #000080; text-decoration-color: #000080\">┃</span> <span style=\"color: #808000; text-decoration-color: #808000; font-weight: bold\"> 2 </span><span style=\"font-weight: bold\">Performance and Optimization (0:54-1:18):</span>                                                                    <span style=\"color: #000080; text-decoration-color: #000080\">┃</span>\n<span style=\"color: #000080; text-decoration-color: #000080\">┃</span> <span style=\"color: #808000; text-decoration-color: #808000; font-weight: bold\">    • </span>Agno is highly optimized, outpacing other frameworks such as Lang Graph with 5,000 times faster agent     <span style=\"color: #000080; text-decoration-color: #000080\">┃</span>\n<span style=\"color: #000080; text-decoration-color: #000080\">┃</span> <span style=\"color: #808000; text-decoration-color: #808000; font-weight: bold\">      </span>instantiation and 50 times less memory usage.                                                             <span style=\"color: #000080; text-decoration-color: #000080\">┃</span>\n<span style=\"color: #000080; text-decoration-color: #000080\">┃</span> <span style=\"color: #808000; text-decoration-color: #808000; font-weight: bold\"> 3 </span><span style=\"font-weight: bold\">Getting Started with Agno (1:28-1:41):</span>                                                                       <span style=\"color: #000080; text-decoration-color: #000080\">┃</span>\n<span style=\"color: #000080; text-decoration-color: #000080\">┃</span> <span style=\"color: #808000; text-decoration-color: #808000; font-weight: bold\">    • </span>The video guides on how to set up Agno for creating custom agents, with all code available in Agno's      <span style=\"color: #000080; text-decoration-color: #000080\">┃</span>\n<span style=\"color: #000080; text-decoration-color: #000080\">┃</span> <span style=\"color: #808000; text-decoration-color: #808000; font-weight: bold\">      </span>cookbooks.                                                                                                <span style=\"color: #000080; text-decoration-color: #000080\">┃</span>\n<span style=\"color: #000080; text-decoration-color: #000080\">┃</span> <span style=\"color: #808000; text-decoration-color: #808000; font-weight: bold\"> 4 </span><span style=\"font-weight: bold\">Exploring Agno's Agent UI (1:57-3:30):</span>                                                                       <span style=\"color: #000080; text-decoration-color: #000080\">┃</span>\n<span style=\"color: #000080; text-decoration-color: #000080\">┃</span> <span style=\"color: #808000; text-decoration-color: #808000; font-weight: bold\">    • </span>Agno features an agent UI with built-in memory, tools, and storage.                                       <span style=\"color: #000080; text-decoration-color: #000080\">┃</span>\n<span style=\"color: #000080; text-decoration-color: #000080\">┃</span> <span style=\"color: #808000; text-decoration-color: #808000; font-weight: bold\">    • </span>Example demonstrated: Using a web search agent to find the five most trending stocks in seconds.          <span style=\"color: #000080; text-decoration-color: #000080\">┃</span>\n<span style=\"color: #000080; text-decoration-color: #000080\">┃</span> <span style=\"color: #808000; text-decoration-color: #808000; font-weight: bold\">    • </span>Research agent example for gathering insights on a topic shows structured informative responses.          <span style=\"color: #000080; text-decoration-color: #000080\">┃</span>\n<span style=\"color: #000080; text-decoration-color: #000080\">┃</span> <span style=\"color: #808000; text-decoration-color: #808000; font-weight: bold\"> 5 </span><span style=\"font-weight: bold\">Local Setup Instructions (4:15-7:09):</span>                                                                        <span style=\"color: #000080; text-decoration-color: #000080\">┃</span>\n<span style=\"color: #000080; text-decoration-color: #000080\">┃</span> <span style=\"color: #808000; text-decoration-color: #808000; font-weight: bold\">    • </span>To start locally, install Python and Git, clone the Agno GitHub repository.                               <span style=\"color: #000080; text-decoration-color: #000080\">┃</span>\n<span style=\"color: #000080; text-decoration-color: #000080\">┃</span> <span style=\"color: #808000; text-decoration-color: #808000; font-weight: bold\">    • </span>Provides a step-by-step guide on setting up a virtual environment and installing required packages.       <span style=\"color: #000080; text-decoration-color: #000080\">┃</span>\n<span style=\"color: #000080; text-decoration-color: #000080\">┃</span> <span style=\"color: #808000; text-decoration-color: #808000; font-weight: bold\"> 6 </span><span style=\"font-weight: bold\">Configuring and Using Agents (7:09-9:01):</span>                                                                    <span style=\"color: #000080; text-decoration-color: #000080\">┃</span>\n<span style=\"color: #000080; text-decoration-color: #000080\">┃</span> <span style=\"color: #808000; text-decoration-color: #808000; font-weight: bold\">    • </span>Demonstrates setting up basic and tool-enhanced agents with specific examples like setting a              <span style=\"color: #000080; text-decoration-color: #000080\">┃</span>\n<span style=\"color: #000080; text-decoration-color: #000080\">┃</span> <span style=\"color: #808000; text-decoration-color: #808000; font-weight: bold\">      </span>news-report-style agent.                                                                                  <span style=\"color: #000080; text-decoration-color: #000080\">┃</span>\n<span style=\"color: #000080; text-decoration-color: #000080\">┃</span> <span style=\"color: #808000; text-decoration-color: #808000; font-weight: bold\">    • </span>Another showcased configuration is using DuckDuckGo for web search functionality.                         <span style=\"color: #000080; text-decoration-color: #000080\">┃</span>\n<span style=\"color: #000080; text-decoration-color: #000080\">┃</span> <span style=\"color: #808000; text-decoration-color: #808000; font-weight: bold\"> 7 </span><span style=\"font-weight: bold\">Agentic Rag Example (9:17-9:54):</span>                                                                             <span style=\"color: #000080; text-decoration-color: #000080\">┃</span>\n<span style=\"color: #000080; text-decoration-color: #000080\">┃</span> <span style=\"color: #808000; text-decoration-color: #808000; font-weight: bold\">    • </span>Discusses building a Rag system using Agno, handling different data inputs and providing structured       <span style=\"color: #000080; text-decoration-color: #000080\">┃</span>\n<span style=\"color: #000080; text-decoration-color: #000080\">┃</span> <span style=\"color: #808000; text-decoration-color: #808000; font-weight: bold\">      </span>information.                                                                                              <span style=\"color: #000080; text-decoration-color: #000080\">┃</span>\n<span style=\"color: #000080; text-decoration-color: #000080\">┃</span> <span style=\"color: #808000; text-decoration-color: #808000; font-weight: bold\"> 8 </span><span style=\"font-weight: bold\">Conclusion and Recommendations (9:31-9:49):</span>                                                                  <span style=\"color: #000080; text-decoration-color: #000080\">┃</span>\n<span style=\"color: #000080; text-decoration-color: #000080\">┃</span> <span style=\"color: #808000; text-decoration-color: #808000; font-weight: bold\">    • </span>The video recommends exploring and utilizing Agno due to its powerful features and open-source            <span style=\"color: #000080; text-decoration-color: #000080\">┃</span>\n<span style=\"color: #000080; text-decoration-color: #000080\">┃</span> <span style=\"color: #808000; text-decoration-color: #808000; font-weight: bold\">      </span>accessibility.                                                                                            <span style=\"color: #000080; text-decoration-color: #000080\">┃</span>\n<span style=\"color: #000080; text-decoration-color: #000080\">┃</span> <span style=\"color: #808000; text-decoration-color: #808000; font-weight: bold\">    • </span>Links, credits, and prompts to engage with the channel are provided at the end.                           <span style=\"color: #000080; text-decoration-color: #000080\">┃</span>\n<span style=\"color: #000080; text-decoration-color: #000080\">┃</span>                                                                                                                 <span style=\"color: #000080; text-decoration-color: #000080\">┃</span>\n<span style=\"color: #000080; text-decoration-color: #000080\">┃</span> The video provides a detailed guide on deploying and customizing AI agents using the newly upgraded Agno        <span style=\"color: #000080; text-decoration-color: #000080\">┃</span>\n<span style=\"color: #000080; text-decoration-color: #000080\">┃</span> framework, emphasizing its speed, efficiency, and comprehensive user support.                                   <span style=\"color: #000080; text-decoration-color: #000080\">┃</span>\n<span style=\"color: #000080; text-decoration-color: #000080\">┃</span>                                                                                                                 <span style=\"color: #000080; text-decoration-color: #000080\">┃</span>\n<span style=\"color: #000080; text-decoration-color: #000080\">┗━━━━━━━━━━━━━━━━━━━━━━━━━━━━━━━━━━━━━━━━━━━━━━━━━━━━━━━━━━━━━━━━━━━━━━━━━━━━━━━━━━━━━━━━━━━━━━━━━━━━━━━━━━━━━━━━━┛</span>\n</pre>\n"
                },
                "metadata": {}
              }
            ]
          }
        },
        "cced458f0cbd461e821fc46fd1e2db57": {
          "model_module": "@jupyter-widgets/base",
          "model_name": "LayoutModel",
          "model_module_version": "1.2.0",
          "state": {
            "_model_module": "@jupyter-widgets/base",
            "_model_module_version": "1.2.0",
            "_model_name": "LayoutModel",
            "_view_count": null,
            "_view_module": "@jupyter-widgets/base",
            "_view_module_version": "1.2.0",
            "_view_name": "LayoutView",
            "align_content": null,
            "align_items": null,
            "align_self": null,
            "border": null,
            "bottom": null,
            "display": null,
            "flex": null,
            "flex_flow": null,
            "grid_area": null,
            "grid_auto_columns": null,
            "grid_auto_flow": null,
            "grid_auto_rows": null,
            "grid_column": null,
            "grid_gap": null,
            "grid_row": null,
            "grid_template_areas": null,
            "grid_template_columns": null,
            "grid_template_rows": null,
            "height": null,
            "justify_content": null,
            "justify_items": null,
            "left": null,
            "margin": null,
            "max_height": null,
            "max_width": null,
            "min_height": null,
            "min_width": null,
            "object_fit": null,
            "object_position": null,
            "order": null,
            "overflow": null,
            "overflow_x": null,
            "overflow_y": null,
            "padding": null,
            "right": null,
            "top": null,
            "visibility": null,
            "width": null
          }
        }
      }
    }
  },
  "cells": [
    {
      "cell_type": "markdown",
      "source": [
        "# 🎯 YouTube Video Summarizer with Agno Agent\n",
        "\n",
        "Welcome! This notebook demonstrates how to build an AI Agent using **agno** that summarizes YouTube videos automatically. The agent takes a YouTube URL, retrieves the transcript, and uses a language model to generate a concise summary.\n",
        "\n",
        "---\n",
        "\n",
        "\n",
        "## 🔍 Overview of Steps:\n",
        "1. Install necessary libraries\n",
        "2. Configure the agno.ai agent\n",
        "3. Provide a YouTube video URL\n",
        "4. Retrieve and summarize the video content\n",
        "5. View the output\n",
        "\n",
        "\n",
        "---\n",
        "\n",
        "\n",
        "\n",
        "Let's get started! 🚀\n"
      ],
      "metadata": {
        "id": "pRQBHh3lkIf_"
      }
    },
    {
      "cell_type": "markdown",
      "source": [
        "# 🧠 STEP 1: Install Required Libraries\n"
      ],
      "metadata": {
        "id": "kL5geGP3k7pH"
      }
    },
    {
      "cell_type": "code",
      "source": [
        "!pip install agno -q\n",
        "!pip install youtube_transcript_api -q"
      ],
      "metadata": {
        "id": "CI6MTsxziVg5"
      },
      "execution_count": 5,
      "outputs": []
    },
    {
      "cell_type": "markdown",
      "source": [
        "#  📁 STEP 2: Import Required Libraries\n"
      ],
      "metadata": {
        "id": "aFmbVrjnkTIR"
      }
    },
    {
      "cell_type": "code",
      "source": [
        "from textwrap import dedent\n",
        "from agno.agent import Agent\n",
        "from agno.models.openai import OpenAIChat\n",
        "from agno.tools.youtube import YouTubeTools\n",
        "import os\n"
      ],
      "metadata": {
        "id": "R03-okdVkfST"
      },
      "execution_count": null,
      "outputs": []
    },
    {
      "cell_type": "markdown",
      "source": [
        "# 🔐 STEP 3: Set And Load Your OpenAI API Key\n"
      ],
      "metadata": {
        "id": "vHGVrH6XkbrZ"
      }
    },
    {
      "cell_type": "code",
      "source": [
        "os.environ[\"OPENAI_API_KEY\"] = \"Enter Open AI Key here\"\n",
        "\n"
      ],
      "metadata": {
        "id": "XeEaPjRHkbLs"
      },
      "execution_count": 17,
      "outputs": []
    },
    {
      "cell_type": "markdown",
      "source": [
        "# 🤖 STEP 4: Define the YouTube Agent"
      ],
      "metadata": {
        "id": "vwl9DJfgkmEq"
      }
    },
    {
      "cell_type": "code",
      "execution_count": 18,
      "metadata": {
        "id": "xn-SXcHsiSLH"
      },
      "outputs": [],
      "source": [
        "\n",
        "youtube_agent = Agent(\n",
        "    name=\"YouTube Agent\",\n",
        "    model=OpenAIChat(id=\"gpt-4o\"),\n",
        "    tools=[YouTubeTools()],\n",
        "    show_tool_calls=True,\n",
        "    instructions=dedent(\"\"\"\n",
        "        You are an expert YouTube content analyst with a keen eye for detail! 🎓\n",
        "\n",
        "        Your job is to:\n",
        "        - Watch the given YouTube video.\n",
        "        - Extract all key moments, topics, and segments in the correct sequence.\n",
        "        - Create a clean and coherent summary in **simple and clear English**.\n",
        "        - Ensure that you do **not skip any important content** from the video.\n",
        "        - Do not just give a general overview — include **specific timestamps, names, and events** if available.\n",
        "        - Avoid technical jargon unless necessary, and explain things in an easy-to-understand way.\n",
        "\n",
        "        Make the summary easy to follow for someone who hasn’t seen the video. Add bullet points or numbering where helpful.\n",
        "\n",
        "    \"\"\"),\n",
        "    add_datetime_to_instructions=True,\n",
        "    markdown=True,\n",
        ")\n",
        "\n",
        "\n"
      ]
    },
    {
      "cell_type": "markdown",
      "source": [
        "# ▶️ STEP 5: Use the Agent with a YouTube Link"
      ],
      "metadata": {
        "id": "dWxmVuJ-kvXU"
      }
    },
    {
      "cell_type": "code",
      "source": [
        "\n",
        "# Replace the URL below with any YouTube video you'd like to summarize.\n",
        "\n",
        "youtube_agent.print_response(\n",
        "    \"Summarize this video: https://www.youtube.com/watch?v=XN6dSSx6Ehg\",\n",
        "    stream=True,\n",
        ")"
      ],
      "metadata": {
        "colab": {
          "base_uri": "https://localhost:8080/",
          "height": 968,
          "referenced_widgets": [
            "8f293cdbca30489ea5f5938d79cb6784",
            "cced458f0cbd461e821fc46fd1e2db57"
          ]
        },
        "id": "A7k8oySGkxwl",
        "outputId": "07d60201-d11c-4842-f0ce-d893d0dbe281"
      },
      "execution_count": 19,
      "outputs": [
        {
          "output_type": "display_data",
          "data": {
            "text/plain": [
              "Output()"
            ],
            "application/vnd.jupyter.widget-view+json": {
              "version_major": 2,
              "version_minor": 0,
              "model_id": "8f293cdbca30489ea5f5938d79cb6784"
            }
          },
          "metadata": {}
        },
        {
          "output_type": "display_data",
          "data": {
            "text/plain": [],
            "text/html": [
              "<pre style=\"white-space:pre;overflow-x:auto;line-height:normal;font-family:Menlo,'DejaVu Sans Mono',consolas,'Courier New',monospace\"></pre>\n"
            ]
          },
          "metadata": {}
        }
      ]
    },
    {
      "cell_type": "code",
      "source": [],
      "metadata": {
        "id": "m0nmzhl1lCf3"
      },
      "execution_count": null,
      "outputs": []
    }
  ]
}