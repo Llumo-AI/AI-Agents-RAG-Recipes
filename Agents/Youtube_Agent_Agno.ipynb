{
  "nbformat": 4,
  "nbformat_minor": 0,
  "metadata": {
    "colab": {
      "provenance": []
    },
    "kernelspec": {
      "name": "python3",
      "display_name": "Python 3"
    },
    "language_info": {
      "name": "python"
    },

  "cells": [
    {
      "cell_type": "markdown",
      "source": [
        "# 🎯 YouTube Video Summarizer with Agno Agent\n",
        "\n",
        "Welcome! This notebook demonstrates how to build an AI Agent using **agno** that summarizes YouTube videos automatically. The agent takes a YouTube URL, retrieves the transcript, and uses a language model to generate a concise summary.\n",
        "\n",
        "---\n",
        "\n",
        "\n",
        "## 🔍 Overview of Steps:\n",
        "1. Install necessary libraries\n",
        "2. Configure the agno.ai agent\n",
        "3. Provide a YouTube video URL\n",
        "4. Retrieve and summarize the video content\n",
        "5. View the output\n",
        "\n",
        "\n",
        "---\n",
        "\n",
        "\n",
        "\n",
        "Let's get started! 🚀\n"
      ],
      "metadata": {
        "id": "pRQBHh3lkIf_"
      }
    },
    {
      "cell_type": "markdown",
      "source": [
        "# STEP 1: Install Required Libraries\n"
      ],
      "metadata": {
        "id": "kL5geGP3k7pH"
      }
    },
    {
      "cell_type": "code",
      "source": [
        "!pip install agno -q\n",
        "!pip install youtube_transcript_api -q"
      ],
      "metadata": {
        "id": "CI6MTsxziVg5"
      },
      "execution_count": 5,
      "outputs": []
    },
    {
      "cell_type": "markdown",
      "source": [
        "#  STEP 2: Import Required Libraries\n"
      ],
      "metadata": {
        "id": "aFmbVrjnkTIR"
      }
    },
    {
      "cell_type": "code",
      "source": [
        "from textwrap import dedent\n",
        "from agno.agent import Agent\n",
        "from agno.models.openai import OpenAIChat\n",
        "from agno.tools.youtube import YouTubeTools\n",
        "import os\n"
      ],
      "metadata": {
        "id": "R03-okdVkfST"
      },
      "execution_count": null,
      "outputs": []
    },
    {
      "cell_type": "markdown",
      "source": [
        "# STEP 3: Set And Load Your OpenAI API Key\n"
      ],
      "metadata": {
        "id": "vHGVrH6XkbrZ"
      }
    },
    {
      "cell_type": "code",
      "source": [
        "os.environ[\"OPENAI_API_KEY\"] = \"Enter Open AI Key here\"\n",
        "\n"
      ],
      "metadata": {
        "id": "XeEaPjRHkbLs"
      },
      "execution_count": 17,
      "outputs": []
    },
    {
      "cell_type": "markdown",
      "source": [
        "# STEP 4: Define the YouTube Agent"
      ],
      "metadata": {
        "id": "vwl9DJfgkmEq"
      }
    },
    {
      "cell_type": "code",
      "execution_count": 18,
      "metadata": {
        "id": "xn-SXcHsiSLH"
      },
      "outputs": [],
      "source": [
        "\n",
        "youtube_agent = Agent(\n",
        "    name=\"YouTube Agent\",\n",
        "    model=OpenAIChat(id=\"gpt-4o\"),\n",
        "    tools=[YouTubeTools()],\n",
        "    show_tool_calls=True,\n",
        "    instructions=dedent(\"\"\"\n",
        "        You are an expert YouTube content analyst with a keen eye for detail! 🎓\n",
        "\n",
        "        Your job is to:\n",
        "        - Watch the given YouTube video.\n",
        "        - Extract all key moments, topics, and segments in the correct sequence.\n",
        "        - Create a clean and coherent summary in **simple and clear English**.\n",
        "        - Ensure that you do **not skip any important content** from the video.\n",
        "        - Do not just give a general overview — include **specific timestamps, names, and events** if available.\n",
        "        - Avoid technical jargon unless necessary, and explain things in an easy-to-understand way.\n",
        "\n",
        "        Make the summary easy to follow for someone who hasn’t seen the video. Add bullet points or numbering where helpful.\n",
        "\n",
        "    \"\"\"),\n",
        "    add_datetime_to_instructions=True,\n",
        "    markdown=True,\n",
        ")\n",
        "\n",
        "\n"
      ]
    },
    {
      "cell_type": "markdown",
      "source": [
        "# STEP 5: Use the Agent with a YouTube Link"
      ],
      "metadata": {
        "id": "dWxmVuJ-kvXU"
      }
    },
    {
      "cell_type": "code",
      "source": [
        "\n",
        "# Replace the URL below with any YouTube video you'd like to summarize.\n",
        "\n",
        "youtube_agent.print_response(\n",
        "    \"Summarize this video: https://www.youtube.com/watch?v=XN6dSSx6Ehg\",\n",
        "    stream=True,\n",
        ")"
      ],
      "metadata": {
        "colab": {
          "base_uri": "https://localhost:8080/",
          "height": 968,
          "referenced_widgets": [
            "8f293cdbca30489ea5f5938d79cb6784",
            "cced458f0cbd461e821fc46fd1e2db57"
          ]
        },
        "id": "A7k8oySGkxwl",
        "outputId": "07d60201-d11c-4842-f0ce-d893d0dbe281"
      },
      "execution_count": 19,
      "outputs": [
        {
          "output_type": "display_data",
          "data": {
            "text/plain": [
              "Output()"
            ],
            "application/vnd.jupyter.widget-view+json": {
              "version_major": 2,
              "version_minor": 0,
              "model_id": "8f293cdbca30489ea5f5938d79cb6784"
            }
          },
          "metadata": {}
        },
        {
          "output_type": "display_data",
          "data": {
            "text/plain": [],
            "text/html": [
              "<pre style=\"white-space:pre;overflow-x:auto;line-height:normal;font-family:Menlo,'DejaVu Sans Mono',consolas,'Courier New',monospace\"></pre>\n"
            ]
          },
          "metadata": {}
        }
      ]
    },
    {
      "cell_type": "code",
      "source": [],
      "metadata": {
        "id": "m0nmzhl1lCf3"
      },
      "execution_count": null,
      "outputs": []
    }
  ]
}