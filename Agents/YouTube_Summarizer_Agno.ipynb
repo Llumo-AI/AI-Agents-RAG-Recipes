{
  "cells": [
    {
      "cell_type": "markdown",
      "metadata": {
        "id": "mYSax1d8oJ01"
      },
      "source": [
        "# 🎯**YouTube Video Summarizer with Agno Agent**\n",
        "\n",
        "Welcome! This notebook demonstrates how to build an AI Agent using **agno** that summarizes YouTube videos automatically. The agent takes a YouTube URL, retrieves the transcript, and uses a language model to generate a concise summary.\n",
        "\n",
        "---\n",
        "\n",
        "\n",
        "## 🔍 **Overview of Steps**:\n",
        "1. Install necessary libraries\n",
        "2. Configure the agno.ai agent\n",
        "3. Provide a YouTube video URL\n",
        "4. Retrieve and summarize the video content\n",
        "5. View the output\n",
        "\n",
        "\n",
        "---\n",
        "\n",
        "\n",
        "\n",
        "Let's get started! 🚀\n"
      ]
    },
    {
      "cell_type": "markdown",
      "metadata": {
        "id": "kL5geGP3k7pH"
      },
      "source": [
        "## 📦 **Step 1: Install Required Libraries**"
      ]
    },
    {
      "cell_type": "code",
      "execution_count": null,
      "metadata": {
        "id": "CI6MTsxziVg5",
        "colab": {
          "base_uri": "https://localhost:8080/"
        },
        "outputId": "bab54a13-7772-4b39-b638-80564186bc7a"
      },
      "outputs": [
        {
          "output_type": "stream",
          "name": "stdout",
          "text": [
            "\u001b[2K     \u001b[90m━━━━━━━━━━━━━━━━━━━━━━━━━━━━━━━━━━━━━━━━\u001b[0m \u001b[32m42.9/42.9 kB\u001b[0m \u001b[31m1.3 MB/s\u001b[0m eta \u001b[36m0:00:00\u001b[0m\n",
            "\u001b[2K   \u001b[90m━━━━━━━━━━━━━━━━━━━━━━━━━━━━━━━━━━━━━━━━\u001b[0m \u001b[32m616.6/616.6 kB\u001b[0m \u001b[31m10.9 MB/s\u001b[0m eta \u001b[36m0:00:00\u001b[0m\n",
            "\u001b[2K   \u001b[90m━━━━━━━━━━━━━━━━━━━━━━━━━━━━━━━━━━━━━━━━\u001b[0m \u001b[32m236.0/236.0 kB\u001b[0m \u001b[31m13.3 MB/s\u001b[0m eta \u001b[36m0:00:00\u001b[0m\n",
            "\u001b[2K   \u001b[90m━━━━━━━━━━━━━━━━━━━━━━━━━━━━━━━━━━━━━━━━\u001b[0m \u001b[32m2.2/2.2 MB\u001b[0m \u001b[31m22.6 MB/s\u001b[0m eta \u001b[36m0:00:00\u001b[0m\n",
            "\u001b[?25h"
          ]
        }
      ],
      "source": [
        "!pip install agno -q\n",
        "!pip install youtube_transcript_api -q"
      ]
    },
    {
      "cell_type": "markdown",
      "metadata": {
        "id": "aFmbVrjnkTIR"
      },
      "source": [
        "## 🔧 **Step 2: Configure agno  Agent**"
      ]
    },
    {
      "cell_type": "code",
      "execution_count": null,
      "metadata": {
        "id": "R03-okdVkfST"
      },
      "outputs": [],
      "source": [
        "from textwrap import dedent\n",
        "from agno.agent import Agent\n",
        "from agno.models.openai import OpenAIChat\n",
        "from agno.tools.youtube import YouTubeTools\n",
        "import os\n"
      ]
    },
    {
      "cell_type": "markdown",
      "metadata": {
        "id": "vHGVrH6XkbrZ"
      },
      "source": [
        "## 🔗 **Step 3: Provide YouTube Video URL**"
      ]
    },
    {
      "cell_type": "code",
      "execution_count": null,
      "metadata": {
        "id": "XeEaPjRHkbLs"
      },
      "outputs": [],
      "source": [
        "os.environ[\"OPENAI_API_KEY\"] = \"Enter Your Open AI Key Here\""
      ]
    },
    {
      "cell_type": "markdown",
      "metadata": {
        "id": "vwl9DJfgkmEq"
      },
      "source": [
        "## 📝**Step 4: Get Transcript and Summarize**"
      ]
    },
    {
      "cell_type": "code",
      "execution_count": null,
      "metadata": {
        "id": "xn-SXcHsiSLH"
      },
      "outputs": [],
      "source": [
        "\n",
        "# 📺 YouTube Content Analysis Agent\n",
        "# This agent transcribes a YouTube video and generates a detailed, structured summary with timestamps.\n",
        "youtube_agent = Agent(\n",
        "    name=\"YouTube Agent\",\n",
        "\n",
        "    # Model used for the agent (GPT-4o here; can be swapped with DeepSeek or Mistral if needed)\n",
        "    model=OpenAIChat(id=\"gpt-4o\"),\n",
        "\n",
        "    # Tool that enables interaction with YouTube (e.g., extract captions, metadata)\n",
        "    tools=[YouTubeTools()],\n",
        "\n",
        "    # Whether to show tool call logs during interactions (helpful for debugging or transparency)\n",
        "    show_tool_calls=True,\n",
        "\n",
        "    # Role description and behavior strategy for the agent\n",
        "    instructions=dedent(\"\"\"\n",
        "        You are an expert YouTube content analyst with a keen eye for detail! 🎓\n",
        "\n",
        "        Your job is to:\n",
        "        - Extract all key moments, topics, and segments in the correct sequence.\n",
        "        - Create a clean and coherent summary in **simple and clear English**.\n",
        "        - Ensure that you do **not skip any important content** from the video.\n",
        "        - Do not just give a general overview — include **specific timestamps, names, and events** if available.\n",
        "        - Avoid technical jargon unless necessary, and explain things in an easy-to-understand way.\n",
        "\n",
        "        Make the summary easy to follow for someone who hasn’t seen the video. Add bullet points or numbering where helpful.\n",
        "    \"\"\"),\n",
        "\n",
        "    # Automatically append the current date and time to every interaction (helps with context)\n",
        "    add_datetime_to_instructions=True,\n",
        "\n",
        "    # Enable Markdown formatting in agent responses (makes the output readable and structured)\n",
        "    markdown=True,\n",
        ")\n"
      ]
    },
    {
      "cell_type": "markdown",
      "metadata": {
        "id": "dWxmVuJ-kvXU"
      },
      "source": [
        "## ✅ **Step 5: View the Summary Output**"
      ]
    },
    {
      "cell_type": "code",
      "execution_count": 1,
      "metadata": {
        "id": "A7k8oySGkxwl"
      },
      "outputs": [],
      "source": [
        "\n",
        "# Replace the URL below with any YouTube video you'd like to summarize.\n",
        "\n",
        "youtube_agent.print_response(\n",
        "    \"Summarize this video: https://www.youtube.com/watch?v=XN6dSSx6Ehg\",\n",
        "    stream=True,\n",
        ")"
      ]
    },
    {
      "cell_type": "code",
      "execution_count": null,
      "metadata": {
        "id": "m0nmzhl1lCf3"
      },
      "outputs": [],
      "source": []
    }
  ],
  "metadata": {
    "colab": {
      "provenance": []
    },
    "kernelspec": {
      "display_name": "Python 3",
      "name": "python3"
    },
    "language_info": {
      "name": "python"
    }
  },
  "nbformat": 4,
  "nbformat_minor": 0
}