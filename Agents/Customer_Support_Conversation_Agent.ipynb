{
  "nbformat": 4,
  "nbformat_minor": 0,
  "metadata": {
    "colab": {
      "provenance": []
    },
    "kernelspec": {
      "name": "python3",
      "display_name": "Python 3"
    },
    "language_info": {
      "name": "python"
    }
  },
  "cells": [
    {
      "cell_type": "markdown",
      "source": [
        "# 🛠️ AI-Powered Assistant for Customer Support Ticketing using OpenAI Function Calling\n",
        "\n",
        "This notebook showcases a conversational AI assistant that helps manage customer support tickets automatically using GPT-4's function calling.\n",
        "\n",
        "🔍 What this notebook does:\n",
        "\n",
        "- Creates new support tickets with customer details and issue descriptions  \n",
        "- Adds relevant tags to categorize tickets  \n",
        "- Escalates high-priority issues to senior support  \n",
        "- Closes resolved tickets  \n",
        "- Retrieves complete ticket history for review\n",
        "\n",
        "All actions are handled through dynamic function calling — no manual routing or logic required.\n"
      ],
      "metadata": {
        "id": "RIZVm4HO7VsW"
      }
    },
    {
      "cell_type": "markdown",
      "source": [
        "# 📦 Step 1: Environment Setup"
      ],
      "metadata": {
        "id": "pqZa5Pjh86If"
      }
    },
    {
      "cell_type": "code",
      "source": [
        "import json\n",
        "import uuid\n",
        "import os\n",
        "from openai import OpenAI\n",
        "\n",
        "# Setup for environment variables\n",
        "os.environ[\"OPENAI_API_KEY\"] = \"your-api-key-here\"\n",
        "api_key = os.getenv(\"OPENAI_API_KEY\")\n",
        "if api_key:\n",
        "    print(\"API Key is set successfully!\")\n",
        "else:\n",
        "    print(\"API Key is missing! Please check your setup.\")\n"
      ],
      "metadata": {
        "colab": {
          "base_uri": "https://localhost:8080/"
        },
        "id": "pHHOEbev89x8",
        "outputId": "f48d609d-0d57-4aa0-a6ef-fda03603feb8"
      },
      "execution_count": 17,
      "outputs": [
        {
          "output_type": "stream",
          "name": "stdout",
          "text": [
            "API Key is set successfully!\n"
          ]
        }
      ]
    },
    {
      "cell_type": "markdown",
      "source": [
        "# 🧱 Step 2: Ticketing System Backend (Simulated)"
      ],
      "metadata": {
        "id": "PBIsAyVV9KCw"
      }
    },
    {
      "cell_type": "code",
      "source": [
        "\n",
        "# Initialize a simple ticketing system (to simulate ticket creation, tagging, and escalation)\n",
        "tickets = {}\n",
        "ticket_history = {}\n",
        "\n",
        "# Function to create a new ticket\n",
        "def create_ticket(customer_name, issue_description):\n",
        "    ticket_id = str(uuid.uuid4())\n",
        "    ticket = {\n",
        "        \"customer_name\": customer_name,\n",
        "        \"issue_description\": issue_description,\n",
        "        \"status\": \"open\",\n",
        "        \"tags\": [],\n",
        "        \"escalated\": False,\n",
        "        \"history\": [{\"role\": \"system\", \"content\": f\"Ticket created for {customer_name} with issue: {issue_description}.\"}]\n",
        "    }\n",
        "    tickets[ticket_id] = ticket\n",
        "    ticket_history[ticket_id] = ticket[\"history\"]\n",
        "    return f\"Ticket {ticket_id} created successfully.\"\n",
        "\n",
        "# Function to add tags to a ticket\n",
        "def add_tags(ticket_id, tags):\n",
        "    if ticket_id in tickets:\n",
        "        tickets[ticket_id][\"tags\"].extend(tags)\n",
        "        tickets[ticket_id][\"history\"].append({\"role\": \"system\", \"content\": f\"Tags added: {tags}\"})\n",
        "        ticket_history[ticket_id] = tickets[ticket_id][\"history\"]\n",
        "        return f\"Tags {tags} added to ticket {ticket_id}.\"\n",
        "    return \"Ticket not found.\"\n",
        "\n",
        "# Function to escalate a ticket\n",
        "def escalate_ticket(ticket_id):\n",
        "    if ticket_id in tickets:\n",
        "        tickets[ticket_id][\"status\"] = \"escalated\"\n",
        "        tickets[ticket_id][\"escalated\"] = True\n",
        "        tickets[ticket_id][\"history\"].append({\"role\": \"system\", \"content\": f\"Ticket escalated to senior support.\"})\n",
        "        ticket_history[ticket_id] = tickets[ticket_id][\"history\"]\n",
        "        return f\"Ticket {ticket_id} has been escalated.\"\n",
        "    return \"Ticket not found.\"\n",
        "\n",
        "# Function to close a ticket\n",
        "def close_ticket(ticket_id):\n",
        "    if ticket_id in tickets:\n",
        "        tickets[ticket_id][\"status\"] = \"closed\"\n",
        "        tickets[ticket_id][\"history\"].append({\"role\": \"system\", \"content\": f\"Ticket closed.\"})\n",
        "        ticket_history[ticket_id] = tickets[ticket_id][\"history\"]\n",
        "        return f\"Ticket {ticket_id} has been closed.\"\n",
        "    return \"Ticket not found.\"\n",
        "\n",
        "# Function to retrieve ticket history\n",
        "def get_ticket_history(ticket_id):\n",
        "    if ticket_id in ticket_history:\n",
        "        history = \"\\n\".join([f\"{entry['role'].capitalize()}: {entry['content']}\" for entry in ticket_history[ticket_id]])\n",
        "        return f\"History for Ticket {ticket_id}:\\n{history}\"\n",
        "    return \"Ticket not found.\"\n",
        "\n"
      ],
      "metadata": {
        "id": "WWufU9lw9Px0"
      },
      "execution_count": 18,
      "outputs": []
    },
    {
      "cell_type": "markdown",
      "source": [
        "# 🧠 Step 3: Define OpenAI Function Tools"
      ],
      "metadata": {
        "id": "oGxP-5Uk9Tcs"
      }
    },
    {
      "cell_type": "code",
      "source": [
        "\n",
        "# Define tools for OpenAI API\n",
        "tools = [\n",
        "    {\n",
        "        \"type\": \"function\",\n",
        "        \"function\": {\n",
        "            \"name\": \"create_ticket\",\n",
        "            \"description\": \"Create a new customer support ticket.\",\n",
        "            \"parameters\": {\n",
        "                \"type\": \"object\",\n",
        "                \"properties\": {\n",
        "                    \"customer_name\": {\"type\": \"string\"},\n",
        "                    \"issue_description\": {\"type\": \"string\"}\n",
        "                },\n",
        "                \"required\": [\"customer_name\", \"issue_description\"],\n",
        "                \"additionalProperties\": False\n",
        "            },\n",
        "            \"strict\": True\n",
        "        }\n",
        "    },\n",
        "    {\n",
        "        \"type\": \"function\",\n",
        "        \"function\": {\n",
        "            \"name\": \"add_tags\",\n",
        "            \"description\": \"Add tags to a support ticket.\",\n",
        "            \"parameters\": {\n",
        "                \"type\": \"object\",\n",
        "                \"properties\": {\n",
        "                    \"ticket_id\": {\"type\": \"string\"},\n",
        "                    \"tags\": {\"type\": \"array\", \"items\": {\"type\": \"string\"}}\n",
        "                },\n",
        "                \"required\": [\"ticket_id\", \"tags\"],\n",
        "                \"additionalProperties\": False\n",
        "            },\n",
        "            \"strict\": True\n",
        "        }\n",
        "    },\n",
        "    {\n",
        "        \"type\": \"function\",\n",
        "        \"function\": {\n",
        "            \"name\": \"escalate_ticket\",\n",
        "            \"description\": \"Escalate a support ticket for senior handling.\",\n",
        "            \"parameters\": {\n",
        "                \"type\": \"object\",\n",
        "                \"properties\": {\n",
        "                    \"ticket_id\": {\"type\": \"string\"}\n",
        "                },\n",
        "                \"required\": [\"ticket_id\"],\n",
        "                \"additionalProperties\": False\n",
        "            },\n",
        "            \"strict\": True\n",
        "        }\n",
        "    },\n",
        "    {\n",
        "        \"type\": \"function\",\n",
        "        \"function\": {\n",
        "            \"name\": \"close_ticket\",\n",
        "            \"description\": \"Close a support ticket once resolved.\",\n",
        "            \"parameters\": {\n",
        "                \"type\": \"object\",\n",
        "                \"properties\": {\n",
        "                    \"ticket_id\": {\"type\": \"string\"}\n",
        "                },\n",
        "                \"required\": [\"ticket_id\"],\n",
        "                \"additionalProperties\": False\n",
        "            },\n",
        "            \"strict\": True\n",
        "        }\n",
        "    },\n",
        "    {\n",
        "        \"type\": \"function\",\n",
        "        \"function\": {\n",
        "            \"name\": \"get_ticket_history\",\n",
        "            \"description\": \"Get the history of a specific ticket.\",\n",
        "            \"parameters\": {\n",
        "                \"type\": \"object\",\n",
        "                \"properties\": {\n",
        "                    \"ticket_id\": {\"type\": \"string\"}\n",
        "                },\n",
        "                \"required\": [\"ticket_id\"],\n",
        "                \"additionalProperties\": False\n",
        "            },\n",
        "            \"strict\": True\n",
        "        }\n",
        "    }\n",
        "]\n",
        "\n",
        "\n"
      ],
      "metadata": {
        "id": "wK4J4P-n9W2h"
      },
      "execution_count": 19,
      "outputs": []
    },
    {
      "cell_type": "markdown",
      "source": [
        "# 🧩 Step 4: Tool Call Execution Wrapper"
      ],
      "metadata": {
        "id": "ZisGyoIl9ZtA"
      }
    },
    {
      "cell_type": "code",
      "source": [
        "# Function to execute the correct tool based on the tool name\n",
        "def executeToolCall(toolCall):\n",
        "    tool = toolCall.function\n",
        "    try:\n",
        "        args = json.loads(tool.arguments) if isinstance(tool.arguments, str) else tool.arguments\n",
        "    except json.JSONDecodeError:\n",
        "        return \"Error decoding tool arguments.\"\n",
        "\n",
        "    if isinstance(args, dict):\n",
        "        if tool.name == \"create_ticket\":\n",
        "            return create_ticket(args[\"customer_name\"], args[\"issue_description\"])\n",
        "        elif tool.name == \"add_tags\":\n",
        "            return add_tags(args[\"ticket_id\"], args[\"tags\"])\n",
        "        elif tool.name == \"escalate_ticket\":\n",
        "            return escalate_ticket(args[\"ticket_id\"])\n",
        "        elif tool.name == \"close_ticket\":\n",
        "            return close_ticket(args[\"ticket_id\"])\n",
        "        elif tool.name == \"get_ticket_history\":\n",
        "            return get_ticket_history(args[\"ticket_id\"])\n",
        "    else:\n",
        "        return \"Invalid arguments format.\"\n",
        "\n",
        "    return \"Unknown tool call.\"\n"
      ],
      "metadata": {
        "id": "9IxtOfBc9bqy"
      },
      "execution_count": null,
      "outputs": []
    },
    {
      "cell_type": "markdown",
      "source": [
        "# 🤖 Step 5: Assistant Loop Initialization"
      ],
      "metadata": {
        "id": "uSTs4zFF9eJl"
      }
    },
    {
      "cell_type": "code",
      "execution_count": 16,
      "metadata": {
        "colab": {
          "base_uri": "https://localhost:8080/",
          "height": 634
        },
        "id": "Zo9acDiNsRAk",
        "outputId": "2d41de04-29f3-4d58-c06d-179f6e6b6b87"
      },
      "outputs": [
        {
          "output_type": "stream",
          "name": "stdout",
          "text": [
            "API Key is set successfully!\n",
            "You: hii\n",
            "AI: Hello! How can I assist you today with our customer support services?\n",
            "You: i am having issues with payment\n",
            "AI: I'm sorry to hear that you're experiencing payment issues. To assist you better, could you please provide more details about the problem you're facing? This will help me create a support ticket for you.\n",
            "You:  my name is ayush and i am having problem in my payment i have paid 500 rs but it is not reflacting in my account\n",
            "AI: I've created a support ticket for your payment issue. Here are the details:\n",
            "\n",
            "- **Ticket ID:** 3b39dd8c-e60c-4d0c-9d0e-6ad199672e1f\n",
            "- **Issue:** Paid 500 rs but it is not reflecting in the account.\n",
            "\n",
            "Is there anything else you would like to add or should we proceed with handling this ticket?\n",
            "You: can you excalate this\n",
            "AI: The support ticket with ID **3b39dd8c-e60c-4d0c-9d0e-6ad199672e1f** has been escalated to our senior support team. They will look into the matter and reach out to you shortly.\n",
            "\n",
            "Is there anything else I can assist you with?\n"
          ]
        }
      ],
      "source": [
        "\n",
        "# Initialize message history\n",
        "messages = [{\"role\": \"system\", \"content\": \"You are a helpful customer support agent.\"}]\n",
        "\n",
        "# Setup OpenAI API client\n",
        "client = OpenAI(api_key=os.getenv(\"OPENAI_API_KEY\"))\n",
        "\n",
        "# Initialize message history\n",
        "messages = [{\"role\": \"system\", \"content\": \"You are a helpful customer support agent. Your task is to assist customers by managing support tickets. You can create new tickets, add relevant tags, escalate tickets to senior support, and close tickets once resolved. You should track and update the status of each ticket, provide historical details of a ticket's progress, and ensure a smooth and efficient support experience for customers.\"}]\n",
        "\n",
        "\n",
        "# Main interaction loop\n",
        "\n",
        "while True:\n",
        "    userInput = input(\"You: \")\n",
        "    messages.append({\"role\": \"user\", \"content\": userInput})\n",
        "    response = client.chat.completions.create(model=\"gpt-4o\", messages=messages, tools=tools)\n",
        "    aiMessage = response.choices[0].message\n",
        "    messages.append(aiMessage)\n",
        "    if aiMessage.tool_calls:\n",
        "        for toolCall in aiMessage.tool_calls:\n",
        "            toolResponse = executeToolCall(toolCall)\n",
        "            messages.append({\"role\": \"tool\", \"content\": toolResponse, \"tool_call_id\": toolCall.id})\n",
        "        finalResponse = client.chat.completions.create(model=\"gpt-4o\", messages=messages, tools=tools)\n",
        "        print(\"AI:\", finalResponse.choices[0].message.content)\n",
        "        messages.append(finalResponse.choices[0].message)\n",
        "    else:\n",
        "        print(\"AI:\", aiMessage.content)\n",
        "\n"
      ]
    },
    {
      "cell_type": "markdown",
      "source": [
        "## Preparing data for Llumo evaluation"
      ],
      "metadata": {
        "id": "T0uex-P39yDV"
      }
    },
    {
      "cell_type": "code",
      "source": [
        "import json\n",
        "def convert_to_chunks(messages):\n",
        "    chunks = []\n",
        "    current_chunk = []\n",
        "\n",
        "    for msg in messages:\n",
        "        if isinstance(msg, dict) and msg.get('role') == 'user':\n",
        "            if current_chunk:\n",
        "                chunks.append(current_chunk)\n",
        "            current_chunk = [msg]\n",
        "        else:\n",
        "            current_chunk.append(msg)\n",
        "\n",
        "    if current_chunk:\n",
        "        chunks.append(current_chunk)\n",
        "\n",
        "    return chunks\n",
        "\n",
        "def save_chunks(chunks, filename):\n",
        "    serialized_chunks = []\n",
        "\n",
        "    for chunk in chunks:\n",
        "        serialized_chunk = []\n",
        "        for msg in chunk:\n",
        "            if isinstance(msg, dict):\n",
        "                serialized_chunk.append(msg)\n",
        "            else:\n",
        "                serialized_chunk.append(msg.model_dump())\n",
        "        serialized_chunks.append(serialized_chunk)\n",
        "\n",
        "    with open(filename, 'w') as f:\n",
        "        json.dump(serialized_chunks, f, indent=4)\n",
        "\n",
        "# Example usage:\n",
        "chunks = convert_to_chunks(messages)\n",
        "save_chunks(chunks, 'chunks.json')\n",
        "with open('/content/chunks.json', 'r') as f:\n",
        "    loaded_chunks = json.load(f)"
      ],
      "metadata": {
        "id": "68oB5O4Atc7C"
      },
      "execution_count": 21,
      "outputs": []
    },
    {
      "cell_type": "code",
      "source": [
        "len(loaded_chunks)"
      ],
      "metadata": {
        "colab": {
          "base_uri": "https://localhost:8080/"
        },
        "id": "4kjhj5PF-8xT",
        "outputId": "2b40bb56-0066-4a9a-94e2-9e1a55f53bec"
      },
      "execution_count": 29,
      "outputs": [
        {
          "output_type": "execute_result",
          "data": {
            "text/plain": [
              "5"
            ]
          },
          "metadata": {},
          "execution_count": 29
        }
      ]
    },
    {
      "cell_type": "markdown",
      "source": [
        "### 🧪 Calling Llumo Agentic api for evaluating the agent performance"
      ],
      "metadata": {
        "id": "weCwhSyqJW6g"
      }
    },
    {
      "cell_type": "code",
      "source": [
        "\n",
        "import requests\n",
        "url = \"Llumo Agentic Eval Api url\"\n",
        "\n",
        "\n",
        "\n",
        "payload = {\n",
        "    \"toolNames\": {\n",
        "    \"create_ticket\": \"Create a new customer support ticket with the customer's name and issue description.\",\n",
        "    \"add_tags\": \"Add relevant tags to an existing support ticket using the ticket ID.\",\n",
        "    \"escalate_ticket\": \"Escalate a support ticket to senior support using the ticket ID.\",\n",
        "    \"close_ticket\": \"Close a support ticket once the issue is resolved using the ticket ID.\",\n",
        "    \"get_ticket_history\": \"Retrieve the history and updates of a support ticket using the ticket ID.\"\n",
        "    },\n",
        "    \"conversations\": c\n",
        "}\n",
        "\n",
        "headers = {\n",
        "    \"Content-Type\": \"application/json\",\n",
        "    \"Authorization\": \"Enter Your llumo api key"\n",
        "}\n",
        "\n",
        "response = requests.post(url, json=payload, headers=headers)\n",
        "\n",
        "print(response.status_code)\n",
        "print(response.json())\n"
      ],
      "metadata": {
        "colab": {
          "base_uri": "https://localhost:8080/"
        },
        "id": "LLfITqCI9sx3",
        "outputId": "0cd51f42-ad9a-4e87-e304-713eac5ea7c7"
      },
      "execution_count": 31,
      "outputs": [
        {
          "output_type": "stream",
          "name": "stdout",
          "text": [
            "\n",
            "[{'Chunk': 1, 'user_query': None, 'tool_count': 0, 'tool_names': [], 'tool_outputs': [], 'tool_errors': [], 'answerprovided': 'no', 'reasoning': \"The assistant did not provide any actions.  The prompt only describes the assistant's capabilities; no user request was made.\", 'expectedTools': [], 'toolSelectionEval': 'Good', 'actionAdvancement': []}, {'Chunk': 2, 'user_query': 'hii', 'tool_count': 0, 'tool_names': [], 'tool_outputs': [], 'tool_errors': [], 'answerprovided': 'yes', 'reasoning': 'No actual query was raised by the user. The assistant responded appropriately to a greeting.', 'expectedTools': 'No Tool Expected', 'toolSelectionEval': 'Good', 'actionAdvancement': []}, {'Chunk': 3, 'user_query': 'i am having issues with payment', 'tool_count': 0, 'tool_names': [], 'tool_outputs': [], 'tool_errors': [], 'answerprovided': 'no', 'reasoning': \"The assistant did not provide a solution to the user's payment issue.  It requested more information instead of offering help.  Improve by providing troubleshooting steps or directing to a relevant help page.\", 'expectedTools': [], 'toolSelectionEval': 'Good', 'actionAdvancement': []}, {'Chunk': 4, 'user_query': 'my name is ayush and i am having problem in my payment i have paid 500 rs but it is not reflacting in my account', 'tool_count': 1, 'tool_names': ['create_ticket'], 'tool_outputs': ['Ticket 3b39dd8c-e60c-4d0c-9d0e-6ad199672e1f created successfully.'], 'tool_errors': [{'tool_name': 'create_ticket', 'status': 'Positive', 'reason': 'The tool successfully created a ticket with the provided information.'}], 'answerprovided': 'no', 'reasoning': \"The assistant created a support ticket, but didn't resolve the payment issue.  The user wanted the payment reflected, not just a ticket.\", 'expectedTools': [], 'toolSelectionEval': 'Bad', 'actionAdvancement': [{'tool_name': 'create_ticket', 'status': 'positive', 'reason': \"The tool is relevant to the user's query about a payment issue and creating a ticket is the appropriate first step.\"}]}, {'Chunk': 5, 'user_query': 'can you excalate this', 'tool_count': 1, 'tool_names': ['escalate_ticket'], 'tool_outputs': ['Ticket 3b39dd8c-e60c-4d0c-9d0e-6ad199672e1f has been escalated.'], 'tool_errors': [{'tool_name': 'escalate_ticket', 'status': 'Positive', 'reason': 'The tool confirmed escalation with a ticket ID, indicating success.'}], 'answerprovided': 'yes', 'reasoning': 'The assistant successfully escalated the ticket and informed the user.  The response clearly indicates completion.', 'expectedTools': [], 'toolSelectionEval': 'Bad', 'actionAdvancement': [{'tool_name': 'escalate_ticket', 'status': 'positive', 'reason': \"The tool is relevant to the user's request to escalate a ticket and it's the only appropriate action in this context.\"}]}]\n",
            "\n"
          ]
        }
      ]
    },
    {
      "cell_type": "code",
      "source": [
        "import pandas as pd\n",
        "\n",
        "# Convert the response JSON to a DataFrame and save it to an Excel file\n",
        "# Replace \"agentEvalInsights.xlsx\" with your desired file name\n",
        "pd.DataFrame(response.json()).to_excel(\"agentEvalInsights.xlsx\", index=False)\n"
      ],
      "metadata": {
        "id": "3rUZCZTm-wTk"
      },
      "execution_count": null,
      "outputs": []
    }
  ]
}
