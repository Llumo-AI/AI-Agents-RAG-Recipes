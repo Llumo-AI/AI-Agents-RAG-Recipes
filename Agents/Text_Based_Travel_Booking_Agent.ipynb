{
  "nbformat": 4,
  "nbformat_minor": 0,
  "metadata": {
    "colab": {
      "provenance": []
    },
    "kernelspec": {
      "name": "python3",
      "display_name": "Python 3"
    },
    "language_info": {
      "name": "python"
    }
  },
  "cells": [
    {
      "cell_type": "markdown",
      "source": [
        "# 🛫 Text-Based Travel Booking Agent\n",
        "## ✨ A Conversational AI Agent for Booking Flights and Hotels using OpenAI\n",
        "\n",
        "## 📌 Project Overview\n",
        "This notebook demonstrates a minimal but functional text-based travel booking agent.\n",
        "It supports conversational booking of flights and hotels using a tool-augmented OpenAI agent.\n",
        "\n",
        "Ideal for:\n",
        "- Prototyping travel bots\n",
        "- Showcasing agentic workflows\n",
        "\n"
      ],
      "metadata": {
        "id": "3P0PHGKZW0Ol"
      }
    },
    {
      "cell_type": "markdown",
      "source": [
        "### Let’s start by installing the necessary libraries"
      ],
      "metadata": {
        "id": "zw4-_WTlX-JR"
      }
    },
    {
      "cell_type": "code",
      "source": [
        "#basic imports\n",
        "import json\n",
        "import uuid\n",
        "import os\n",
        "from openai import OpenAI\n"
      ],
      "metadata": {
        "collapsed": true,
        "id": "I0pVeeC_X4Hq"
      },
      "execution_count": 40,
      "outputs": []
    },
    {
      "cell_type": "markdown",
      "source": [
        "## 🧠 Setting Up the Brain of Your Travel Agent\n",
        "In this section, we configure the agent’s environment to ensure smooth operation of the travel booking assistant.\n",
        "\n",
        "Let’s start by setting up the OpenAI API.\n"
      ],
      "metadata": {
        "id": "VWv4i87aXvSV"
      }
    },
    {
      "cell_type": "code",
      "source": [
        "# Setup for environment variables\n",
        "import os\n",
        "\n",
        "# Setup for environment variables\n",
        "os.environ[\"OPENAI_API_KEY\"] = \"Enter your OPENAI_API_KEY\"\n",
        "# Verify that the API key is set correctly\n",
        "api_key = os.getenv(\"OPENAI_API_KEY\")\n",
        "if api_key:\n",
        "    print(\"API Key is set successfully!\")\n",
        "else:\n",
        "    print(\"API Key is missing! Please check your setup.\")\n",
        "\n"
      ],
      "metadata": {
        "colab": {
          "base_uri": "https://localhost:8080/"
        },
        "id": "VJczSMoEXv6z",
        "outputId": "5ba3b2f7-e929-45c5-9d9e-f7c3aa174b51"
      },
      "execution_count": 19,
      "outputs": [
        {
          "output_type": "stream",
          "name": "stdout",
          "text": [
            "API Key is set successfully!\n"
          ]
        }
      ]
    },
    {
      "cell_type": "markdown",
      "source": [
        "### ✈️🏨 *Flight & Hotel Inventory Setup*  \n",
        "_Defining available flights and hotel options for booking_\n"
      ],
      "metadata": {
        "id": "j5uZLZrJZqJd"
      }
    },
    {
      "cell_type": "code",
      "source": [
        "\n",
        "# Define the data for flights and hotels\n",
        "flights = {\n",
        "    \"FL123\": {\"from\": \"Delhi\", \"to\": \"Mumbai\", \"price\": 5000, \"seats\": 5},\n",
        "    \"FL456\": {\"from\": \"Bangalore\", \"to\": \"Delhi\", \"price\": 6000, \"seats\": 3},\n",
        "    \"FL789\": {\"from\": \"Delhi\", \"to\": \"Chennai\", \"price\": 5500, \"seats\": 4},\n",
        "}\n",
        "\n",
        "hotels = {\n",
        "    \"H001\": {\"city\": \"Mumbai\", \"name\": \"Sea View Hotel\", \"rooms\": 10, \"price_per_night\": 3000},\n",
        "    \"H002\": {\"city\": \"Delhi\", \"name\": \"Royal Stay\", \"rooms\": 5, \"price_per_night\": 3500},\n",
        "    \"H003\": {\"city\": \"Goa\", \"name\": \"Beachside Resort\", \"rooms\": 8, \"price_per_night\": 4000},\n",
        "}"
      ],
      "metadata": {
        "id": "UB8nDNLHYPEF"
      },
      "execution_count": 20,
      "outputs": []
    },
    {
      "cell_type": "markdown",
      "source": [
        "### 🛠️📦 *Booking Engine Functions*  \n",
        "_Logic for searching and booking flights & hotels_\n"
      ],
      "metadata": {
        "id": "5JYKPwHiaHPd"
      }
    },
    {
      "cell_type": "code",
      "source": [
        "# To connect with your data, replace these functions with your database API calls\n",
        "def searchFlights(from_city, to_city):\n",
        "    available_flights = {key: value for key, value in flights.items() if value[\"from\"].lower() == from_city.lower() and value[\"to\"].lower() == to_city.lower()}\n",
        "    return str(available_flights) if available_flights else \"No flights available for this route.\"\n",
        "\n",
        "def bookFlight(flight_id, num_seats):\n",
        "    if flights.get(flight_id) and flights[flight_id][\"seats\"] >= num_seats:\n",
        "        flights[flight_id][\"seats\"] -= num_seats\n",
        "        return f\"Successfully booked {num_seats} seats on flight {flight_id}.\"\n",
        "    return \"Unable to book flight. Not enough seats available or invalid flight ID.\"\n",
        "\n",
        "def searchHotels(city):\n",
        "    available_hotels = {key: value for key, value in hotels.items() if value[\"city\"].lower() == city.lower()}\n",
        "    return str(available_hotels) if available_hotels else \"No hotels available in this city.\"\n",
        "\n",
        "def bookHotel(hotel_id, num_rooms):\n",
        "    if hotels.get(hotel_id) and hotels[hotel_id][\"rooms\"] >= num_rooms:\n",
        "        hotels[hotel_id][\"rooms\"] -= num_rooms\n",
        "        return f\"Booked {num_rooms} rooms at {hotels[hotel_id]['name']}.\"\n",
        "    return \"Unable to book hotel. Please check availability.\""
      ],
      "metadata": {
        "id": "WnNpzZMhZvqm"
      },
      "execution_count": 21,
      "outputs": []
    },
    {
      "cell_type": "markdown",
      "source": [
        "##  Define Function Calling Schema  \n",
        "_Setting up callable functions for OpenAI to interact with our booking logic_\n"
      ],
      "metadata": {
        "id": "9SckwfRPah_T"
      }
    },
    {
      "cell_type": "code",
      "source": [
        "# Define the tools for OpenAI API\n",
        "tools = [\n",
        "    {\"type\": \"function\", \"function\": {\"name\": \"searchFlights\", \"description\": \"Search for available flights based on departure city and destination city.\", \"parameters\": {\"type\": \"object\", \"properties\": {\"from_city\": {\"type\": \"string\"}, \"to_city\": {\"type\": \"string\"}}, \"required\": [\"from_city\", \"to_city\"], \"additionalProperties\": False}, \"strict\": True}},\n",
        "    {\"type\": \"function\", \"function\": {\"name\": \"bookFlight\", \"description\": \"Book a flight with a specific ID and number of seats.\", \"parameters\": {\"type\": \"object\", \"properties\": {\"flight_id\": {\"type\": \"string\"}, \"num_seats\": {\"type\": \"integer\"}}, \"required\": [\"flight_id\", \"num_seats\"], \"additionalProperties\": False}, \"strict\": True}},\n",
        "    {\"type\": \"function\", \"function\": {\"name\": \"searchHotels\", \"description\": \"Search for available hotels in a specific city.\", \"parameters\": {\"type\": \"object\", \"properties\": {\"city\": {\"type\": \"string\"}}, \"required\": [\"city\"], \"additionalProperties\": False}, \"strict\": True}},\n",
        "    {\"type\": \"function\", \"function\": {\"name\": \"bookHotel\", \"description\": \"Book a hotel with a specific ID and number of rooms.\", \"parameters\": {\"type\": \"object\", \"properties\": {\"hotel_id\": {\"type\": \"string\"}, \"num_rooms\": {\"type\": \"integer\"}}, \"required\": [\"hotel_id\", \"num_rooms\"], \"additionalProperties\": False}, \"strict\": True}}\n",
        "]\n"
      ],
      "metadata": {
        "id": "q3_Jh9Q9aQNz"
      },
      "execution_count": 28,
      "outputs": []
    },
    {
      "cell_type": "markdown",
      "source": [
        "## 🧠📲  Create a Function to Handle OpenAI Calls  \n",
        "_This function processes OpenAI tool calls and routes them to the correct handler._\n"
      ],
      "metadata": {
        "id": "GNowzthZbJku"
      }
    },
    {
      "cell_type": "code",
      "source": [
        "\n",
        "# Function to execute the correct tool based on the tool name\n",
        "def executeToolCall(toolCall):\n",
        "    tool = toolCall.function\n",
        "    args = json.loads(tool.arguments)\n",
        "\n",
        "    if tool.name == \"searchFlights\":\n",
        "        return searchFlights(args[\"from_city\"], args[\"to_city\"])\n",
        "    elif tool.name == \"bookFlight\":\n",
        "        return bookFlight(args[\"flight_id\"], args[\"num_seats\"])\n",
        "    elif tool.name == \"searchHotels\":\n",
        "        return searchHotels(args[\"city\"])\n",
        "    elif tool.name == \"bookHotel\":\n",
        "        return bookHotel(args[\"hotel_id\"], args[\"num_rooms\"])\n",
        "    return \"Unknown tool call.\"\n",
        "\n"
      ],
      "metadata": {
        "id": "IZmuEB-1amgn"
      },
      "execution_count": 29,
      "outputs": []
    },
    {
      "cell_type": "markdown",
      "source": [
        "## 💬🤖 Setting Up the OpenAI Chat  \n",
        "_Finally, we bring everything together into an interactive chat loop!_\n"
      ],
      "metadata": {
        "id": "RCrM5LYabY_-"
      }
    },
    {
      "cell_type": "code",
      "source": [
        "# Setup OpenAI API client\n",
        "client = OpenAI(api_key=os.getenv(\"OPENAI_API_KEY\"))\n",
        "\n",
        "# Initialize message history\n",
        "messages = [{\"role\": \"system\", \"content\": \"You are a helpful travel booking agent.\"}]\n",
        "\n",
        "# Main interaction loop\n",
        "\n",
        "while True:\n",
        "    userInput = input(\"You: \")\n",
        "    messages.append({\"role\": \"user\", \"content\": userInput})\n",
        "    response = client.chat.completions.create(model=\"gpt-4o\", messages=messages, tools=tools)\n",
        "    aiMessage = response.choices[0].message\n",
        "    messages.append(aiMessage)\n",
        "    if aiMessage.tool_calls:\n",
        "        for toolCall in aiMessage.tool_calls:\n",
        "            toolResponse = executeToolCall(toolCall)\n",
        "            messages.append({\"role\": \"tool\", \"content\": toolResponse, \"tool_call_id\": toolCall.id})\n",
        "        finalResponse = client.chat.completions.create(model=\"gpt-4o\", messages=messages, tools=tools)\n",
        "        print(\"AI:\", finalResponse.choices[0].message.content)\n",
        "        messages.append(finalResponse.choices[0].message)\n",
        "    else:\n",
        "        print(\"AI:\", aiMessage.content)\n"
      ],
      "metadata": {
        "colab": {
          "base_uri": "https://localhost:8080/",
          "height": 845
        },
        "id": "N46xCTxgbkVu",
        "outputId": "3087cca5-789f-478d-826f-d240ca1bf769"
      },
      "execution_count": 38,
      "outputs": [
        {
          "output_type": "stream",
          "name": "stdout",
          "text": [
            "API Key is set successfully!\n",
            "You: hi\n",
            "AI: Hello! How can I assist you with your travel plans today?\n",
            "You: i want to go mumbai from delhi is there any flight avilabel\n",
            "AI: There is a flight available from Delhi to Mumbai. Here are the details:\n",
            "\n",
            "- **Flight ID:** FL123\n",
            "- **Price:** ₹5,000\n",
            "- **Available Seats:** 5\n",
            "\n",
            "Would you like to book this flight or need any more information?\n",
            "You: sure book for me\n",
            "AI: How many seats would you like to book for this flight?\n",
            "You: 2\n",
            "AI: Your booking is confirmed! You have successfully booked 2 seats on flight FL123 from Delhi to Mumbai. If there’s anything else you need assistance with, feel free to ask!\n",
            "You: can you suggest hotels in mumbai\n",
            "AI: I found a hotel option for you in Mumbai:\n",
            "\n",
            "- **Hotel Name:** Sea View Hotel\n",
            "- **Available Rooms:** 10\n",
            "- **Price per Night:** ₹3,000\n",
            "\n",
            "Would you like to book a room at this hotel or need more information?\n",
            "You: can you book this for me\n",
            "AI: How many rooms would you like to book at the Sea View Hotel?\n",
            "You: 2\n",
            "AI: Your booking is confirmed! You have successfully booked 2 rooms at the Sea View Hotel in Mumbai. If there's anything else you need help with, just let me know!\n"
          ]
        }
      ]
    },
    {
      "cell_type": "markdown",
      "source": [
        "## Preparing data for Llumo evaluation"
      ],
      "metadata": {
        "id": "zjJtGf77jHU6"
      }
    },
    {
      "cell_type": "code",
      "source": [
        "import json\n",
        "def convert_to_chunks(messages):\n",
        "    chunks = []\n",
        "    current_chunk = []\n",
        "\n",
        "    for msg in messages:\n",
        "        if isinstance(msg, dict) and msg.get('role') == 'user':\n",
        "            if current_chunk:\n",
        "                chunks.append(current_chunk)\n",
        "            current_chunk = [msg]\n",
        "        else:\n",
        "            current_chunk.append(msg)\n",
        "\n",
        "    if current_chunk:\n",
        "        chunks.append(current_chunk)\n",
        "\n",
        "    return chunks\n",
        "\n",
        "def save_chunks(chunks, filename):\n",
        "    serialized_chunks = []\n",
        "\n",
        "    for chunk in chunks:\n",
        "        serialized_chunk = []\n",
        "        for msg in chunk:\n",
        "            if isinstance(msg, dict):\n",
        "                serialized_chunk.append(msg)\n",
        "            else:\n",
        "                serialized_chunk.append(msg.model_dump())  # Assuming ChatCompletionMessage supports model_dump()\n",
        "        serialized_chunks.append(serialized_chunk)\n",
        "\n",
        "    with open(filename, 'w') as f:\n",
        "        json.dump(serialized_chunks, f, indent=4)\n",
        "\n",
        "# Example usage:\n",
        "chunks = convert_to_chunks(messages)\n",
        "save_chunks(chunks, 'chunks.json')\n",
        "with open('/content/chunks.json', 'r') as f:\n",
        "    loaded_chunks = json.load(f)"
      ],
      "metadata": {
        "id": "7hkRbp2lght4"
      },
      "execution_count": 54,
      "outputs": []
    },
    {
      "cell_type": "markdown",
      "source": [
        "### 🧪 Calling Llumo Agentic api for evaluating the agent performance"
      ],
      "metadata": {
        "id": "91TDK3DtjY27"
      }
    },
    {
      "cell_type": "code",
      "source": [
        "import requests\n",
        "url = \"Llumo Agentic Eval Api url\"\n",
        "\n",
        "\n",
        "\n",
        "payload = {\n",
        "    \"toolNames\": {\n",
        "        \"searchFlights\": \"Search for available flights based on departure city and destination city.\",\n",
        "        \"bookFlight\": \"Book a flight with a specific flight ID and number of seats.\",\n",
        "        \"searchHotels\": \"Search for available hotels in a specific city.\",\n",
        "        \"bookHotel\": \"Book a hotel with a specific hotel ID and number of rooms.\"\n",
        "    },\n",
        "    \"conversations\": loaded_chunks\n",
        "}\n",
        "\n",
        "headers = {\n",
        "    \"Content-Type\": \"application/json\",\n",
        "    \"Authorization\": \"Bearer {Your Llumo ai api}\"\n",
        "}\n",
        "\n",
        "response = requests.post(url, json=payload, headers=headers)\n",
        "\n",
        "print(response.status_code)\n",
        "print(response.json())\n"
      ],
      "metadata": {
        "colab": {
          "base_uri": "https://localhost:8080/"
        },
        "id": "YRzsZmC0iLjp",
        "outputId": "fc407a38-d718-4c94-e46d-304f6d8ce203"
      },
      "execution_count": 59,
      "outputs": [
        {
          "output_type": "stream",
          "name": "stdout",
          "text": [
            "\n",
            "[{'Chunk': 2, 'user_query': 'hi', 'tool_count': 0, 'tool_names': [], 'tool_outputs': [], 'tool_errors': [], 'answerprovided': 'yes', 'reasoning': 'no actual query was raised by the user.  The user only greeted the assistant.', 'expectedTools': 'No Tool Expected', 'toolSelectionEval': 'Good', 'actionAdvancement': []}, {'Chunk': 3, 'user_query': 'i want to go mumbai from delhi is there any flight avilabel', 'tool_count': 1, 'tool_names': ['searchFlights'], 'tool_outputs': [\"{'FL123': {'from': 'Delhi', 'to': 'Mumbai', 'price': 5000, 'seats': 5}}\"], 'tool_errors': [{'tool_name': 'searchFlights', 'status': 'Positive', 'reason': 'The tool successfully returned flight details in a JSON-like format.'}], 'answerprovided': 'yes', 'reasoning': \"The assistant successfully identified a flight from Delhi to Mumbai and provided relevant details like flight ID, price, and available seats, fulfilling the user's request.\", 'expectedTools': ['searchflights'], 'toolSelectionEval': 'Bad', 'actionAdvancement': [{'tool_name': 'searchflights', 'status': 'positive', 'reason': \"The tool is relevant to the user query and it's the first step to finding flights from Delhi to Mumbai.\"}]}, {'Chunk': 4, 'user_query': 'sure book for me', 'tool_count': 0, 'tool_names': [], 'tool_outputs': [], 'tool_errors': [], 'answerprovided': 'no', 'reasoning': 'The assistant did not provide the requested information or action. The user asked to book a flight, but the assistant only asked for the number of seats.  The booking process is incomplete.', 'expectedTools': ['bookflight'], 'toolSelectionEval': 'Good', 'actionAdvancement': []}, {'Chunk': 5, 'user_query': '2', 'tool_count': 1, 'tool_names': ['bookFlight'], 'tool_outputs': ['Successfully booked 2 seats on flight FL123.'], 'tool_errors': [{'tool_name': 'bookFlight', 'status': 'Positive', 'reason': \"The tool returned 'Successfully booked 2 seats on flight FL123.', indicating successful booking.\"}], 'answerprovided': 'yes', 'reasoning': 'The assistant successfully booked 2 seats on flight FL123 as requested by the user.  The final message confirms the booking.', 'expectedTools': ['bookflight'], 'toolSelectionEval': 'Bad', 'actionAdvancement': [{'tool_name': 'bookFlight', 'status': 'positive', 'reason': \"The user's input '2' implies booking two seats, and the tool correctly interprets this to book a flight with two seats. The tool name and arguments are relevant to the user's implicit request.\"}]}, {'Chunk': 6, 'user_query': 'can you suggest hotels in mumbai', 'tool_count': 1, 'tool_names': ['searchHotels'], 'tool_outputs': [\"{'H001': {'city': 'Mumbai', 'name': 'Sea View Hotel', 'rooms': 10, 'price_per_night': 3000}}\"], 'tool_errors': [{'tool_name': 'searchHotels', 'status': 'Positive', 'reason': 'The tool successfully returned hotel details in JSON format.  The data is valid and usable.'}], 'answerprovided': 'yes', 'reasoning': \"The assistant successfully used the searchHotels tool to provide a relevant hotel suggestion in Mumbai, fulfilling the user's request.\", 'expectedTools': ['searchhotels'], 'toolSelectionEval': 'Bad', 'actionAdvancement': [{'tool_name': 'searchHotels', 'status': 'positive', 'reason': 'The tool is relevant to the user query and is called in the correct order. The user asked for hotel suggestions in Mumbai, and the tool searches for hotels in Mumbai.'}]}, {'Chunk': 7, 'user_query': 'can you book this for me', 'tool_count': 0, 'tool_names': [], 'tool_outputs': [], 'tool_errors': [], 'answerprovided': 'no', 'reasoning': 'The assistant did not provide the requested information or action. The user asked to book something, but the assistant only asked for clarifying information.  The assistant needs to complete the booking.', 'expectedTools': ['searchhotels', 'bookhotel'], 'toolSelectionEval': 'Good', 'actionAdvancement': []}, {'Chunk': 8, 'user_query': '2', 'tool_count': 1, 'tool_names': ['bookHotel'], 'tool_outputs': ['Booked 2 rooms at Sea View Hotel.'], 'tool_errors': [{'tool_name': 'bookHotel', 'status': 'Positive', 'reason': 'The tool successfully booked 2 rooms, confirming successful execution.'}], 'answerprovided': 'yes', 'reasoning': \"The assistant successfully booked 2 hotel rooms as requested.  The user's input was clear and the booking tool functioned correctly.\", 'expectedTools': ['bookhotel'], 'toolSelectionEval': 'Bad', 'actionAdvancement': [{'tool_name': 'bookHotel', 'status': 'negative', 'reason': 'The user query is just \"2\", which is insufficient information to book a hotel.  The tool call is made without any context of location, dates, or preferences. A search tool should be used first to provide options to the user.'}]}]\n",
            "\n",
            "\n",
            "\n",
            "\n"
          ]
        }
      ]
    },
    {
      "cell_type": "code",
      "source": [
        "import pandas as pd\n",
        "\n",
        "# Convert the response JSON to a DataFrame and save it to an Excel file\n",
        "# Replace \"agentEvalInsights.xlsx\" with your desired file name\n",
        "pd.DataFrame(response.json()).to_excel(\"agentEvalInsights.xlsx\", index=False)\n"
      ],
      "metadata": {
        "id": "1zciC-0pjNX-"
      },
      "execution_count": null,
      "outputs": []
    },
    {
      "cell_type": "code",
      "source": [],
      "metadata": {
        "id": "lv-P-BxvkY7L"
      },
      "execution_count": 52,
      "outputs": []
    },
    {
      "cell_type": "code",
      "source": [],
      "metadata": {
        "id": "rZw1LSutknsq"
      },
      "execution_count": null,
      "outputs": []
    }
  ]
}
