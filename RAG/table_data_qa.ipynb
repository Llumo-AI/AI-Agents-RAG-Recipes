{
  "nbformat": 4,
  "nbformat_minor": 0,
  "metadata": {
    "colab": {
      "provenance": []
    },
    "kernelspec": {
      "name": "python3",
      "display_name": "Python 3"
    },
    "language_info": {
      "name": "python"
    }
  },
  "cells": [
    {
      "cell_type": "markdown",
      "source": [
        "# 📘Sales Analysis using PandasAI and OpenAI\n",
        "\n",
        "\n",
        "\n",
        "---\n",
        "\n",
        "\n",
        "## 📌 Notebook Overview\n",
        "This notebook demonstrates how to use [PandasAI](https://github.com/gventuri/pandas-ai) with OpenAI's LLM to analyze sales data using natural language queries. It covers the following steps:\n",
        "\n",
        "1. Installing necessary libraries\n",
        "2. Importing dependencies\n",
        "3. Loading and preparing the dataset\n",
        "4. Securing and loading the OpenAI API key\n",
        "5. Initializing the LLM and SmartDataFrame\n",
        "6. Running LLM-powered analysis on the data using natural language\n",
        "\n",
        "---\n"
      ],
      "metadata": {
        "id": "IM0aIZXIyOXl"
      }
    },
    {
      "cell_type": "markdown",
      "source": [
        "\n",
        "## 🔧 Step 1: Install Required Libraries\n"
      ],
      "metadata": {
        "id": "lhZfAOg5yhMz"
      }
    },
    {
      "cell_type": "code",
      "source": [
        "# Ensuring fixed versions for stability and reproducibility\n",
        "\n",
        "!pip install pandas==1.5.3 pandasai==2.4.2 openai==1.70.0 matplotlib==3.10.0\n"
      ],
      "metadata": {
        "id": "LSU-wOiIygst"
      },
      "execution_count": null,
      "outputs": []
    },
    {
      "cell_type": "markdown",
      "source": [
        "\n",
        "## 📦 Step 2: Import Necessary Libraries\n"
      ],
      "metadata": {
        "id": "eDLodioVyn2v"
      }
    },
    {
      "cell_type": "code",
      "source": [
        "import pandas as pd\n",
        "import matplotlib.pyplot as plt\n",
        "import seaborn as sns\n",
        "import os\n",
        "import shutil\n",
        "from IPython.display import display, Image\n",
        "from pandasai import SmartDataframe\n",
        "from pandasai.llm.openai import OpenAI\n",
        "import numpy as np\n",
        "import time\n"
      ],
      "metadata": {
        "id": "3nMDBI1GymL2"
      },
      "execution_count": 3,
      "outputs": []
    },
    {
      "cell_type": "markdown",
      "source": [
        "## 📂 Step 3: Load Dataset\n"
      ],
      "metadata": {
        "id": "tHRXIgSbytjw"
      }
    },
    {
      "cell_type": "code",
      "source": [
        "\n",
        "# Load the first 100 rows from the Superstore sales dataset hosted on GitHub\n",
        "url = \"https://raw.githubusercontent.com/yajasarora/Superstore-Sales-Analysis-with-Tableau/master/Superstore%20sales%20dataset.csv\"\n",
        "df = pd.read_csv(url)\n",
        "df = df[:100]  # For demonstration, limit to first 100 rows\n"
      ],
      "metadata": {
        "id": "FdF9c7n_ysMs"
      },
      "execution_count": 5,
      "outputs": []
    },
    {
      "cell_type": "markdown",
      "source": [
        "## 🔐 Step 4: Set Up And Load API Key Securely from Colab Environment\n",
        "\n"
      ],
      "metadata": {
        "id": "Ju1uT88qyy_3"
      }
    },
    {
      "cell_type": "code",
      "execution_count": 13,
      "metadata": {
        "id": "PNGz_jKSelWe"
      },
      "outputs": [],
      "source": [
        "\n",
        "# Set your key in the Colab environment by running:\n",
        "os.environ['OPENAI_API_KEY'] = \"Enter Your open api key here\"\n",
        "\n",
        "api_key = os.getenv(\"OPENAI_API_KEY\")\n",
        "\n",
        "if not api_key:\n",
        "    raise ValueError(\"API key not found. Please set OPENAI_API_KEY in environment variables.\")\n",
        "\n"
      ]
    },
    {
      "cell_type": "markdown",
      "source": [
        "## 🧠 Step 5: Initialize OpenAI LLM\n"
      ],
      "metadata": {
        "id": "5uP-_UFNzTD2"
      }
    },
    {
      "cell_type": "code",
      "source": [
        "\n",
        "llm = OpenAI(api_token=api_key)\n",
        "\n"
      ],
      "metadata": {
        "id": "9j7Uc5yIzM2n"
      },
      "execution_count": 7,
      "outputs": []
    },
    {
      "cell_type": "markdown",
      "source": [
        "## 🧾 Step 6: Initialize SmartDataFrame with LLM\n",
        "```\n",
        "Note: enable_sandbox=False may pose security risks. Use with caution.\n",
        "```"
      ],
      "metadata": {
        "id": "eV3oLfCPza7j"
      }
    },
    {
      "cell_type": "code",
      "source": [
        "sdf = SmartDataframe(df, config={\n",
        "    \"llm\": llm,\n",
        "    \"custom_figsize\": (6, 4),\n",
        "    \"enable_sandbox\": False\n",
        "})"
      ],
      "metadata": {
        "id": "asy748utzX85"
      },
      "execution_count": 8,
      "outputs": []
    },
    {
      "cell_type": "markdown",
      "source": [
        "## 💬 Step 7: Define Natural Language Queries\n"
      ],
      "metadata": {
        "id": "uG1MkU4ZziVX"
      }
    },
    {
      "cell_type": "code",
      "source": [
        "\n",
        "text_queries = [\n",
        "    \"What is the total revenue generated?\",\n",
        "    \"Which product has the highest sales volume?\",\n",
        "    \"What is the average order value?\",\n",
        "    \"List the top 5 customers by total purchase amount.\"\n",
        "]\n"
      ],
      "metadata": {
        "id": "zmtC2XkkzhG2"
      },
      "execution_count": 9,
      "outputs": []
    },
    {
      "cell_type": "markdown",
      "source": [
        "## 📊 Step 8: Run Queries through SmartDataFrame\n"
      ],
      "metadata": {
        "id": "YgCSZ49dzoxO"
      }
    },
    {
      "cell_type": "code",
      "source": [
        "\n",
        "\n",
        "# The queries will be interpreted by the LLM to return insights from the DataFrame\n",
        "for query in text_queries:\n",
        "    print(f\"\\n🔍 Query: {query}\")\n",
        "    answer = sdf.chat(query)\n",
        "    print(\"📊 Answer:\", answer)\n",
        "    print(\"-\" * 60)\n",
        "\n"
      ],
      "metadata": {
        "colab": {
          "base_uri": "https://localhost:8080/"
        },
        "id": "PFxeckIFzQYP",
        "outputId": "bebcda32-1ac9-4f72-9516-e60a212e85af"
      },
      "execution_count": 10,
      "outputs": [
        {
          "output_type": "stream",
          "name": "stdout",
          "text": [
            "\n",
            "🔍 Query: What is the total revenue generated?\n",
            "📊 Answer: 21504.531700000003\n",
            "------------------------------------------------------------\n",
            "\n",
            "🔍 Query: Which product has the highest sales volume?\n",
            "{'type': 'string', 'value': 'The product with the highest sales volume is \\'#10-4 1/8\" x 9 1/2\" Premium Diagonal Seam Envelopes\\' with a total quantity of 9.'}\n",
            "📊 Answer: The product with the highest sales volume is '#10-4 1/8\" x 9 1/2\" Premium Diagonal Seam Envelopes' with a total quantity of 9.\n",
            "------------------------------------------------------------\n",
            "\n",
            "🔍 Query: What is the average order value?\n",
            "📊 Answer: 430.0906340000001\n",
            "------------------------------------------------------------\n",
            "\n",
            "🔍 Query: List the top 5 customers by total purchase amount.\n",
            "📊 Answer:       Customer Name      Sales\n",
            "3   Brosina Hoffman  3714.3040\n",
            "45  Tracy Blumstein  3348.4840\n",
            "14        Gene Hale  1288.4640\n",
            "2     Brendan Sweed  1280.9920\n",
            "42     Steve Nguyen  1228.9532\n",
            "------------------------------------------------------------\n"
          ]
        }
      ]
    },
    {
      "cell_type": "code",
      "source": [],
      "metadata": {
        "id": "sM3-lQPUzl_t"
      },
      "execution_count": null,
      "outputs": []
    }
  ]
}