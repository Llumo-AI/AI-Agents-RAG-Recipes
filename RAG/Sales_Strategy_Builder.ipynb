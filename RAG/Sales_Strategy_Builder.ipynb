{
  "cells": [
    {
      "cell_type": "markdown",
      "id": "3b2a3cbc",
      "metadata": {
        "id": "3b2a3cbc"
      },
      "source": [
        "# 📊 **Strategy Report Builder – Sales Transcript to Insightful Report**\n",
        "\n",
        "\n",
        "---\n",
        "\n",
        "\n",
        "This notebook uses Google Gemini (`genai`) to analyze sales conversations and extract a structured strategy report including client needs, proposed solutions, objections, next steps, and strategic insights.\n",
        "\n",
        "\n",
        "---\n",
        "\n"
      ]
    },
    {
      "cell_type": "markdown",
      "id": "ca27a021",
      "metadata": {
        "id": "ca27a021"
      },
      "source": [
        "## 🧩 **1. Install Required Libraries**\n",
        "Ensure the required Google GenAI Python SDK is installed."
      ]
    },
    {
      "cell_type": "code",
      "execution_count": null,
      "id": "91f41fcc",
      "metadata": {
        "id": "91f41fcc"
      },
      "outputs": [],
      "source": [
        "!pip install -q google-generativeai -q"
      ]
    },
    {
      "cell_type": "markdown",
      "id": "e7240977",
      "metadata": {
        "id": "e7240977"
      },
      "source": [
        "## 🔐 **2. Configure API Key**\n",
        "Set your Google API key (keep it secret!)."
      ]
    },
    {
      "cell_type": "code",
      "execution_count": null,
      "id": "2893fe28",
      "metadata": {
        "id": "2893fe28"
      },
      "outputs": [],
      "source": [
        "# Replace the empty string with your actual API key. This key is used for authentication with the Google Generative AI..\n",
        "import os\n",
        "os.environ['GEMINI_API_KEY'] = \"your-actual-api-key-here\"\n"
      ]
    },
    {
      "cell_type": "markdown",
      "id": "d7e61e38",
      "metadata": {
        "id": "d7e61e38"
      },
      "source": [
        "## 📥**3. Import Libraries**\n",
        "We’ll import all nec`essary modules from the Google GenAI SDK."
      ]
    },
    {
      "cell_type": "code",
      "execution_count": null,
      "id": "1d40547d",
      "metadata": {
        "id": "1d40547d"
      },
      "outputs": [],
      "source": [
        "from google import genai\n",
        "from google.genai import types\n",
        "import os"
      ]
    },
    {
      "cell_type": "markdown",
      "id": "c8140100",
      "metadata": {
        "id": "c8140100"
      },
      "source": [
        "## 🧠 **4. Define the Strategy Report Agent**\n",
        "This function analyzes the transcript and generates a structured report."
      ]
    },
    {
      "cell_type": "code",
      "execution_count": null,
      "id": "8b522681",
      "metadata": {
        "id": "8b522681"
      },
      "outputs": [],
      "source": [
        "# 🧠 Sales Report Agent\n",
        "# This function analyzes a sales transcript and generates a structured strategy report using Google Gemini\n",
        "\n",
        "def sales_report(transcript):\n",
        "    # Step 1: Define the system-level instruction for the model\n",
        "    # This sets the persona of the model as a business analyst focusing on extracting insights from sales conversations\n",
        "    strategy_system_prompt = \"\"\"\n",
        "    You are a strategic business analyst specializing in interpreting sales conversations.\n",
        "    Your role is to extract actionable insights, structure them into a report, and ensure clarity,\n",
        "    completeness, and business relevance. Focus on summarizing client needs, solutions offered,\n",
        "    objections, next steps, and strategic takeaways.\n",
        "    \"\"\"\n",
        "\n",
        "    # Step 2: Define the dynamic user prompt with placeholders for the transcript\n",
        "    # This gives explicit instructions to the model on what kind of output is expected\n",
        "    user_prompt = \"\"\"\n",
        "    You are a Strategy Report Builder.\n",
        "\n",
        "    Your job is to analyze a sales conversation transcript between a salesperson and a client,\n",
        "    and generate a clear, actionable, and structured strategy report based on the discussion.\n",
        "\n",
        "    Your report should include the following sections:\n",
        "    1. **Client Needs & Pain Points**\n",
        "    2. **Proposed Solutions**\n",
        "    3. **Objections or Concerns Raised**\n",
        "    4. **Next Steps & Follow-ups**\n",
        "    5. **Strategic Insights**\n",
        "\n",
        "    Output only the report in a professional, structured format.\n",
        "    Do not repeat the transcript or add explanations.\n",
        "\n",
        "    Transcript:\n",
        "    {{transcript}}\n",
        "    \"\"\"\n",
        "\n",
        "    # Step 3: Inject the actual transcript into the placeholder\n",
        "    user_prompt = user_prompt.replace(\"{{transcript}}\", transcript)\n",
        "\n",
        "    # Step 4: Configure Gemini with the system instruction as a context\n",
        "    config = types.GenerateContentConfig(system_instruction=strategy_system_prompt)\n",
        "\n",
        "    # Step 5: Create a Gemini client with the API key and configuration\n",
        "    sales_client = genai.Client(api_key=os.getenv(\"GEMINI_API_KEY\"), config=config)\n",
        "\n",
        "    # Step 6: Generate the content using the specified Gemini model and composed user prompt\n",
        "    response = sales_client.models.generate_content(\n",
        "        model=\"gemini-2.0-flash\",\n",
        "        contents=user_prompt\n",
        "    )\n",
        "\n",
        "    # Step 7: Return the model's response in a dictionary for further use or formatting\n",
        "    return {\"strategy_report\": response.text}\n"
      ]
    },
    {
      "cell_type": "markdown",
      "id": "f16ca1db",
      "metadata": {
        "id": "f16ca1db"
      },
      "source": [
        "## 🛠️**5. Define Tool Schema**\n",
        "This allows Gemini to call the sales report function as a tool."
      ]
    },
    {
      "cell_type": "code",
      "execution_count": null,
      "id": "e72b20ff",
      "metadata": {
        "id": "e72b20ff"
      },
      "outputs": [],
      "source": [
        "# 🛠️ Define the Sales Report Tool Schema\n",
        "# This declares a tool that can be called by the model using structured function-calling syntax\n",
        "\n",
        "sales_report_tool = {\n",
        "    \"name\": \"sales_report\",  # The name of the function/tool the model will call\n",
        "    \"description\": \"Create a sales report for a given transcript\",  # Human-readable purpose\n",
        "    \"parameters\": {\n",
        "        \"type\": \"object\",  # Parameters passed as a JSON object\n",
        "        \"properties\": {\n",
        "            \"transcript\": {\n",
        "                \"type\": \"string\",\n",
        "                \"description\": \"Sales transcript\"  # What kind of input is expected\n",
        "            }\n",
        "        },\n",
        "        \"required\": [\"transcript\"]  # Enforces that 'transcript' must be provided\n",
        "    }\n",
        "}\n",
        "\n",
        "# 🔧 Wrap the tool in a Gemini Tool object\n",
        "# This enables the model to call the tool when it's relevant to the user’s prompt\n",
        "tools = types.Tool(\n",
        "    function_declarations=[sales_report_tool]\n",
        ")\n",
        "\n",
        "# ⚙️ Attach the tool configuration to the generation config\n",
        "# This allows Gemini to recognize and use the function in the context of chat generation\n",
        "config = types.GenerateContentConfig(\n",
        "    tools=[tools]\n",
        ")\n"
      ]
    },
    {
      "cell_type": "markdown",
      "id": "5b5f1a40",
      "metadata": {
        "id": "5b5f1a40"
      },
      "source": [
        "## 📤 **6. Provide a Sample Sales Transcript**\n",
        "Gemini will parse this and decide whether to call the appropriate tool."
      ]
    },
    {
      "cell_type": "code",
      "execution_count": 16,
      "id": "b51f23a6",
      "metadata": {
        "id": "b51f23a6"
      },
      "outputs": [],
      "source": [
        "# 📝 User Input: Sales Conversation Prompt\n",
        "# This is the initial message coming from the user, simulating a request to analyze a transcript.\n",
        "# The structure uses Gemini's `types.Content` and `types.Part` format to send model-ready input.\n",
        "user_query = '''create a sales report for the transcript:\n",
        "\n",
        "                Salesperson: Hi Sarah, thanks for taking the time today. Just to confirm, you're looking to improve your customer onboarding process, right?\n",
        "                Client: Yes, that's right. Our current flow is clunky, and users are dropping off before completing setup.\n",
        "                Salesperson: Got it. Based on what you shared earlier, I think our OnboardPro tool could help streamline that experience. It’s reduced drop-offs by over 40% for similar clients.\n",
        "                Client: That sounds promising. What would the integration look like?\n",
        "                Salesperson: It’s a low-code plugin, so your dev team can integrate it in under a week. We also offer support during setup.\n",
        "                Client: Okay, and what's the pricing structure?\n",
        "                Salesperson: It’s usage-based. For your estimated volume, it would be around $2,000/month.\n",
        "                Client: That might be a stretch for our current budget. Are there tiered options?\n",
        "                Salesperson: Absolutely. We can start with the Lite package at $1,200/month and upgrade later as your usage grows.\n",
        "                Client: That’s more feasible. Can you send over a detailed proposal?\n",
        "                Salesperson: Of course. I’ll send it today. Would you be open to a follow-up call next Wednesday to walk through it?\n",
        "                Client: Yes, Wednesday works. Thanks!\n",
        "                '''\n",
        "contents = [\n",
        "    types.Content(\n",
        "        role=\"user\",  # Specifies that this input comes from the user\n",
        "        parts=[\n",
        "            types.Part(\n",
        "                text= user_query\n",
        "            )\n",
        "        ]\n",
        "    )\n",
        "]\n"
      ]
    },
    {
      "cell_type": "markdown",
      "id": "098984e0",
      "metadata": {
        "id": "098984e0"
      },
      "source": [
        "## 🤖**7. Execute the Agent and Generate the Strategy Report**"
      ]
    },
    {
      "cell_type": "code",
      "execution_count": null,
      "id": "ccc6cf54",
      "metadata": {
        "colab": {
          "base_uri": "https://localhost:8080/"
        },
        "id": "ccc6cf54",
        "outputId": "16df765a-87fd-4626-92a6-1a800a5add81"
      },
      "outputs": [
        {
          "output_type": "stream",
          "name": "stdout",
          "text": [
            "OK. I've created a sales report for the transcript you provided. Here's the strategy report:\n",
            "\n",
            "## Strategy Report\n",
            "\n",
            "**1. Client Needs & Pain Points**\n",
            "\n",
            "*   Inefficient and clunky customer onboarding process.\n",
            "*   High user drop-off rates during the setup phase.\n",
            "*   Budget constraints.\n",
            "\n",
            "**2. Proposed Solutions**\n",
            "\n",
            "*   Implementation of OnboardPro tool to streamline customer onboarding.\n",
            "*   Low-code plugin integration for quick deployment.\n",
            "*   Tiered pricing options (Lite package) to align with budget.\n",
            "\n",
            "**3. Objections or Concerns Raised**\n",
            "\n",
            "*   Initial pricing ($2,000/month) perceived as too high.\n",
            "\n",
            "**4. Next Steps & Follow-ups**\n",
            "\n",
            "*   Send a detailed proposal to the client outlining the OnboardPro solution.\n",
            "*   Schedule a follow-up call for next Wednesday to review the proposal.\n",
            "\n",
            "**5. Strategic Insights**\n",
            "\n",
            "*   Client is budget-conscious, making the Lite package a strategic entry point.\n",
            "*   Highlight the ease of integration (low-code) to address potential technical concerns.\n",
            "*   Quantify the value proposition by emphasizing the reduction in drop-off rates.\n",
            "\n"
          ]
        }
      ],
      "source": [
        "# 🚀 Initialize the Gemini Client\n",
        "# This client instance is used to send requests to the Gemini API.\n",
        "client = genai.Client(api_key=os.getenv(\"GEMINI_API_KEY\"))\n",
        "\n",
        "# 🎯 Step 1: Initial Response Generation\n",
        "# Send the user's request and tool definitions to the model.\n",
        "# The model may respond with either direct output or a function call.\n",
        "response = client.models.generate_content(\n",
        "    model=\"gemini-2.0-flash\",\n",
        "    config=config,\n",
        "    contents=contents\n",
        ")\n",
        "\n",
        "# 🧠 Step 2: Check if the model made a function call\n",
        "# We access the first candidate's first part to inspect whether a tool was invoked.\n",
        "tool_calls = response.candidates[0].content.parts[0].function_call\n",
        "\n",
        "# ✅ Step 3: If a function call was made, handle it\n",
        "if tool_calls:\n",
        "    if tool_calls.name == \"sales_report\":  # Only handle the \"sales_report\" tool here\n",
        "\n",
        "        # 🛠️ Execute the corresponding function with the provided transcript\n",
        "        tool_response = sales_report(tool_calls.args['transcript'])\n",
        "\n",
        "        # 🔄 Prepare the tool response part to be passed back to Gemini\n",
        "        function_response_part = types.Part.from_function_response(\n",
        "            name=tool_calls.name,\n",
        "            response={\"result\": tool_response},  # Wrap response in a result object\n",
        "        )\n",
        "\n",
        "        # 🧱 Step 4: Build the conversation chain\n",
        "        # Add the tool call made by the model\n",
        "        contents.append(types.Content(role=\"model\", parts=[types.Part(function_call=tool_calls)]))\n",
        "\n",
        "        # Add the tool's response to the conversation\n",
        "        contents.append(types.Content(role=\"tool\", parts=[function_response_part]))\n",
        "\n",
        "        # 🗣️ Step 5: Regenerate response with updated conversation history\n",
        "        response = client.models.generate_content(\n",
        "            model=\"gemini-2.0-flash\",\n",
        "            config=config,\n",
        "            contents=contents\n",
        "        )\n",
        "\n",
        "        # 🖨️ Display final output from the model\n",
        "        print(response.text)\n",
        "\n",
        "else:\n",
        "    # If no tool was called, print the direct model response\n",
        "    print(response.text)\n"
      ]
    },
    {
      "cell_type": "markdown",
      "source": [
        "# Evaluation using Llumo AI"
      ],
      "metadata": {
        "id": "HZ7NKhQo0nAz"
      },
      "id": "HZ7NKhQo0nAz"
    },
    {
      "cell_type": "code",
      "source": [
        "# Code to Evaluate the output\n",
        "User_Query= user_query\n",
        "llm_response = response.text\n",
        "LLUMO_API_KEY = \"Enter Your LLumo Api Key Here\"\n",
        "inputs = {}\n",
        "import requests\n",
        "# Define the endpoint, headers, and payload\n",
        "LLUMO_ENDPOINT = \"https://app.llumo.ai/api/create-eval-analytics\"\n",
        "headers = {\n",
        "    \"Authorization\": f\"Bearer {LLUMO_API_KEY}\", # Replace with your LLumo API key it will look like this \"Bearer A1B2C3\"\n",
        "    \"Content-Type\": \"application/json\"\n",
        "}\n",
        "payload = {\n",
        "    \"prompt\": User_Query,\n",
        "    \"input\": inputs,\n",
        "    \"output\": llm_response,\n",
        "    \"analytics\": [\"Confidence\"] # ANALYTICS NAME are Confidence,Clarity,Context.....etc.\n",
        "}\n",
        "# Make the API request\n",
        "response = requests.post(LLUMO_ENDPOINT, json=payload, headers=headers)\n",
        "try:\n",
        "    result = response.json()  # Parse the JSON response\n",
        "    print(\"statusCode : \", result['data']['statusCode'])\n",
        "    print(\"message : \",result['data']['message'])\n",
        "    # Extract the 'data' part\n",
        "    data = result.get('data', {})\n",
        "    print(\"Analytics:\", data)\n",
        "    # Return the data and a success flag\n",
        "\n",
        "except Exception as e:\n",
        "  print(e)\n"
      ],
      "metadata": {
        "id": "RVmpPjOavkSD",
        "colab": {
          "base_uri": "https://localhost:8080/"
        },
        "outputId": "683ef1f1-4ed3-4372-c55a-a8a4e107232a"
      },
      "id": "RVmpPjOavkSD",
      "execution_count": 21,
      "outputs": [
        {
          "output_type": "stream",
          "name": "stdout",
          "text": [
            "statusCode :  200\n",
            "message :  SUCCESS\n",
            "Analytics: {'data': '{\"analyticsScore\": {\"* the sales report should accurately reflect the conversation\\'s key points, including the client\\'s problem, the proposed solution (onboardpro), its benefits (40% drop-off reduction), integration details (low-code plugin, quick setup, support), pricing options ($2000/month and $1200/month lite package), and next steps (proposal and follow-up call).\": 0, \"* the report should be structured in a clear and concise manner, using bullet points or sections to organize information logically.  it should be easy to read and understand, even for someone not directly involved in the conversation.\": 0, \"* the report should quantify the potential value proposition for the client. this could include estimated roi, cost savings, or other quantifiable benefits of using onboardpro.\": 0, \"* the report should include a call to action, suggesting the next steps for both the salesperson and the client. this could include scheduling a follow-up meeting, sending a proposal, or other relevant actions.\": 0, \"overallScore\": 0}, \"reasoning\": {\"* the sales report should accurately reflect the conversation\\'s key points, including the client\\'s problem, the proposed solution (onboardpro), its benefits (40% drop-off reduction), integration details (low-code plugin, quick setup, support), pricing options ($2000/month and $1200/month lite package), and next steps (proposal and follow-up call).\": [\"The output is completely empty and does not contain any information related to the sales conversation.\", \"It returns a generic error message indicating missing inputs, which is not a relevant sales report.\", \"None of the key points from the conversation are reflected in the output.\"], \"* the report should be structured in a clear and concise manner, using bullet points or sections to organize information logically.  it should be easy to read and understand, even for someone not directly involved in the conversation.\": [\"There is no report generated; therefore, structure and clarity cannot be assessed.\", \"The error message is not structured in a way that would be useful for a sales report.\"], \"* the report should quantify the potential value proposition for the client. this could include estimated roi, cost savings, or other quantifiable benefits of using onboardpro.\": [\"No quantifiable value proposition is present in the output.\", \"The absence of a report prevents any assessment of ROI or cost savings.\"], \"* the report should include a call to action, suggesting the next steps for both the salesperson and the client. this could include scheduling a follow-up meeting, sending a proposal, or other relevant actions.\": [\"No call to action is present in the output.\", \"The error message does not provide any guidance on next steps.\"], \"overallScore\": \"Calculated based on individual metric scores\"}, \"inputTokenCount\": 287, \"outputTokenCount\": 19, \"totalToken\": 306, \"cost\": 0.001836, \"isRepeat\": false, \"isError\": true, \"isRefusal\": true}', 'statusCode': 200, 'message': 'SUCCESS'}\n"
          ]
        }
      ]
    },
    {
      "cell_type": "code",
      "source": [],
      "metadata": {
        "id": "cGZPIOiJ2C6o"
      },
      "id": "cGZPIOiJ2C6o",
      "execution_count": null,
      "outputs": []
    }
  ],
  "metadata": {
    "colab": {
      "provenance": []
    },
    "language_info": {
      "name": "python"
    },
    "kernelspec": {
      "name": "python3",
      "display_name": "Python 3"
    }
  },
  "nbformat": 4,
  "nbformat_minor": 5
}